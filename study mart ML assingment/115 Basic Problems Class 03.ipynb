{
 "cells": [
  {
   "cell_type": "markdown",
   "id": "7a3cd866-e48f-426d-8bd3-abc58698f40e",
   "metadata": {},
   "source": [
    "### 1. Variable Swap: Write a Python program to swap the values of two variables without using a temporary variable."
   ]
  },
  {
   "cell_type": "code",
   "execution_count": 1,
   "id": "d26d407e-eede-480c-aef4-f119b9a5cd31",
   "metadata": {},
   "outputs": [
    {
     "name": "stdin",
     "output_type": "stream",
     "text": [
      "Enter the value of x:  4\n",
      "Enter the value of y:  5\n"
     ]
    },
    {
     "name": "stdout",
     "output_type": "stream",
     "text": [
      "Before swap: x = 4 , y = 5\n",
      "After swap: x = 5 , y = 4\n"
     ]
    },
    {
     "data": {
      "text/plain": [
       "'\"\\nx, y = input(\"x: \"), input(\"y: \")\\nprint(\"Before: x =\", x, \", y =\", y)\\nx, y = y, x\\nprint(\"After: x =\", x, \", y =\", y)\\n'"
      ]
     },
     "execution_count": 1,
     "metadata": {},
     "output_type": "execute_result"
    }
   ],
   "source": [
    "x = input(\"Enter the value of x: \")\n",
    "y = input(\"Enter the value of y: \")\n",
    "print(\"Before swap: x =\", x, \", y =\", y)\n",
    "temp = x\n",
    "x = y\n",
    "y = temp\n",
    "print(\"After swap: x =\", x, \", y =\", y)\n",
    "\n",
    "\"\"\"\"\n",
    "x, y = input(\"x: \"), input(\"y: \")\n",
    "print(\"Before: x =\", x, \", y =\", y)\n",
    "x, y = y, x\n",
    "print(\"After: x =\", x, \", y =\", y)\n",
    "\"\"\""
   ]
  },
  {
   "cell_type": "markdown",
   "id": "511f9f3d-06f2-4f36-b49a-59b58bd4e006",
   "metadata": {},
   "source": [
    "### 2. Even or Odd: Write a Python program that takes an integer as input and prints whether it is even or odd."
   ]
  },
  {
   "cell_type": "code",
   "execution_count": 2,
   "id": "9b2cfa33-788c-4a5c-990a-b4d08dd9e4c4",
   "metadata": {},
   "outputs": [
    {
     "name": "stdin",
     "output_type": "stream",
     "text": [
      "Enter an integer:  5\n"
     ]
    },
    {
     "name": "stdout",
     "output_type": "stream",
     "text": [
      "5 is Odd\n"
     ]
    }
   ],
   "source": [
    "num = int(input(\"Enter an integer: \"))\n",
    "if num % 2 == 0:\n",
    "    print(f\"{num} is Even\")\n",
    "else:\n",
    "    print(f\"{num} is Odd\")\n"
   ]
  },
  {
   "cell_type": "markdown",
   "id": "229cfd1b-e477-468e-85c5-0cc64211a4f7",
   "metadata": {},
   "source": [
    "### 3. String Reverse: Write a Python function to reverse a given string and return the reversed string."
   ]
  },
  {
   "cell_type": "code",
   "execution_count": 3,
   "id": "952e1c5d-8c0e-4ff2-8d0e-709e7d7ccb9d",
   "metadata": {},
   "outputs": [
    {
     "name": "stdin",
     "output_type": "stream",
     "text": [
      "Enter a string:  MI\n"
     ]
    },
    {
     "name": "stdout",
     "output_type": "stream",
     "text": [
      "Reversed string: IM\n"
     ]
    },
    {
     "data": {
      "text/plain": [
       "'\\ns = input(\"Enter a string: \")\\nans = s[::-1]\\nprint(\"Reversed string:\", ans)\\n\\n'"
      ]
     },
     "execution_count": 3,
     "metadata": {},
     "output_type": "execute_result"
    }
   ],
   "source": [
    "s = input(\"Enter a string: \")\n",
    "ans = s[::-1]\n",
    "print(\"Reversed string:\", ans)\n",
    "\n",
    "'''\n",
    "s = input(\"Enter a string: \")\n",
    "ans = s[::-1]\n",
    "print(\"Reversed string:\", ans)\n",
    "\n",
    "'''"
   ]
  },
  {
   "cell_type": "markdown",
   "id": "a0fd03f2-ba46-4ced-8101-cf12ceb15b9c",
   "metadata": {},
   "source": [
    "### 4. Type Conversion: Given a list of integers, write a Python program to convert each element of the list to a string."
   ]
  },
  {
   "cell_type": "code",
   "execution_count": 4,
   "id": "d238c654-c42e-4a79-bd37-5415f95e6e63",
   "metadata": {},
   "outputs": [
    {
     "name": "stdout",
     "output_type": "stream",
     "text": [
      "['1', '2', '6', '9', '10', '13']\n",
      "[11, 22, 33, 44, 55, 66, 77, 888, 999]\n"
     ]
    }
   ],
   "source": [
    "#type 1\n",
    "int_list_k=[1,2,6,9,10,13]\n",
    "string_list_k=[str(x) for x in int_list_k]\n",
    "print(string_list_k)\n",
    "\n",
    "#type 2\n",
    "int_list_k=[11,22,33,44,55,66,77,888,999]\n",
    "string_list_k=str(int_list_k) \n",
    "print(string_list_k)"
   ]
  },
  {
   "cell_type": "markdown",
   "id": "f417a707-17cd-4541-9609-459c503b8532",
   "metadata": {},
   "source": [
    "### 5. Temperature Converter: Write a Python program that converts a temperature in Celsius to Fahrenheit. Take the Celsius temperature as input from the user."
   ]
  },
  {
   "cell_type": "code",
   "execution_count": 5,
   "id": "68a05178-a4eb-4bb4-8b98-bda7dd1bacfb",
   "metadata": {},
   "outputs": [
    {
     "name": "stdin",
     "output_type": "stream",
     "text": [
      "Enter temperature in Celsius:  273\n"
     ]
    },
    {
     "name": "stdout",
     "output_type": "stream",
     "text": [
      "273.0°C is equal to 523.4°F\n"
     ]
    }
   ],
   "source": [
    "celsius = float(input(\"Enter temperature in Celsius: \"))\n",
    "fahrenheit = (celsius * 9/5) + 32\n",
    "print(f\"{celsius}°C is equal to {fahrenheit}°F\")\n"
   ]
  },
  {
   "cell_type": "markdown",
   "id": "a354b674-d214-4b90-abc5-6977e9eb2c47",
   "metadata": {},
   "source": [
    "### 6. Data Type Checker: Write a Python function that takes a variable as input and returns the data type of the variable as a string (e.g., “int”, “float”, “str”, “list”, etc.)."
   ]
  },
  {
   "cell_type": "code",
   "execution_count": 6,
   "id": "d5865f16-2982-4fc8-9a98-4612e96c27c0",
   "metadata": {},
   "outputs": [
    {
     "name": "stdin",
     "output_type": "stream",
     "text": [
      "Enter an integer value:  34\n"
     ]
    },
    {
     "name": "stdout",
     "output_type": "stream",
     "text": [
      "<class 'int'>\n"
     ]
    },
    {
     "name": "stdin",
     "output_type": "stream",
     "text": [
      "Enter a string value:  HJS\n"
     ]
    },
    {
     "name": "stdout",
     "output_type": "stream",
     "text": [
      "<class 'str'>\n"
     ]
    },
    {
     "name": "stdin",
     "output_type": "stream",
     "text": [
      "Enter a float value:  433\n"
     ]
    },
    {
     "name": "stdout",
     "output_type": "stream",
     "text": [
      "<class 'float'>\n"
     ]
    },
    {
     "name": "stdin",
     "output_type": "stream",
     "text": [
      "Enter a boolean value (True/False):  0\n"
     ]
    },
    {
     "name": "stdout",
     "output_type": "stream",
     "text": [
      "<class 'bool'>\n"
     ]
    },
    {
     "name": "stdin",
     "output_type": "stream",
     "text": [
      "Enter a list (comma separated values):  3,4,,5\n"
     ]
    },
    {
     "name": "stdout",
     "output_type": "stream",
     "text": [
      "<class 'list'>\n"
     ]
    }
   ],
   "source": [
    "i = int(input(\"Enter an integer value: \"))\n",
    "print(type(i))\n",
    "\n",
    "s = str(input(\"Enter a string value: \"))\n",
    "print(type(s))\n",
    "\n",
    "f = float(input(\"Enter a float value: \"))\n",
    "print(type(f))\n",
    "\n",
    "b = bool(input(\"Enter a boolean value (True/False): \"))\n",
    "print(type(b))\n",
    "\n",
    "l = list(input(\"Enter a list (comma separated values): \").split(','))\n",
    "print(type(l))\n"
   ]
  },
  {
   "cell_type": "markdown",
   "id": "74c25067-9133-428c-a410-62a8c6b5660c",
   "metadata": {},
   "source": [
    "### 7. String Palindrome: Write a Python function to check if a given string is a palindrome or not."
   ]
  },
  {
   "cell_type": "code",
   "execution_count": 7,
   "id": "5fa05b29-451c-44c4-b44c-69fd1c189fc3",
   "metadata": {},
   "outputs": [
    {
     "name": "stdin",
     "output_type": "stream",
     "text": [
      "Enter a string:  KAWAK\n"
     ]
    },
    {
     "name": "stdout",
     "output_type": "stream",
     "text": [
      "The string is a palindrome.\n"
     ]
    }
   ],
   "source": [
    "input_string = input(\"Enter a string: \")\n",
    "if input_string == input_string[::-1]:\n",
    "    print(\"The string is a palindrome.\")\n",
    "else:\n",
    "    print(\"The string is not a palindrome.\")\n"
   ]
  },
  {
   "cell_type": "markdown",
   "id": "fae3b35f-b863-43c7-801d-6bfb2fd3b155",
   "metadata": {},
   "source": [
    "###  8. String Reversal with Slicing: Write a Python function to reverse a given string using slicing."
   ]
  },
  {
   "cell_type": "code",
   "execution_count": 8,
   "id": "9656f20a-ad78-4525-885b-59e4471c3b3f",
   "metadata": {},
   "outputs": [
    {
     "name": "stdin",
     "output_type": "stream",
     "text": [
      "Enter a string:  KAWSAR\n"
     ]
    },
    {
     "name": "stdout",
     "output_type": "stream",
     "text": [
      "RASWAK\n"
     ]
    }
   ],
   "source": [
    "def reverse_string( x):\n",
    "    return x[::-1]\n",
    "\n",
    "input_string = input(\"Enter a string: \")\n",
    "print(reverse_string(input_string))\n"
   ]
  },
  {
   "cell_type": "markdown",
   "id": "953581aa-b867-4d10-927c-baf4253641f1",
   "metadata": {},
   "source": [
    "### 9. String Concatenation: Write a Python program that takes two strings as input and concatenates them into a single string without using the `+` operator."
   ]
  },
  {
   "cell_type": "code",
   "execution_count": 9,
   "id": "3f977171-59b0-4296-b89f-3c08882ba062",
   "metadata": {},
   "outputs": [
    {
     "name": "stdin",
     "output_type": "stream",
     "text": [
      "Enter s1:  DD\n",
      "Enter s2:  FF\n"
     ]
    },
    {
     "name": "stdout",
     "output_type": "stream",
     "text": [
      "DDFF\n"
     ]
    }
   ],
   "source": [
    "s1 = input(\"Enter s1: \")\n",
    "s2 = input(\"Enter s2: \")\n",
    "print(''.join( [s1, s2] )   )\n"
   ]
  },
  {
   "cell_type": "markdown",
   "id": "8dcbc110-42c4-40cf-9ebe-6d7b53b8c122",
   "metadata": {},
   "source": [
    "### 10. Typecasting Challenge: Given three variables: `a = ‘100’`, `b = 25`, and `c = ‘10.5’`, write a Python program to perform the following operations and print the results: – Convert `a` to an integer and add it to `b`. – Convert `c` to a float and subtract it from the result of the first operation. – Convert the final result to a string and concatenate it with the string ” is the answer.”"
   ]
  },
  {
   "cell_type": "code",
   "execution_count": 10,
   "id": "b692437d-d568-43e4-8b3d-220aaa7a5c45",
   "metadata": {},
   "outputs": [
    {
     "name": "stdout",
     "output_type": "stream",
     "text": [
      "125 114.5 114.5\n"
     ]
    }
   ],
   "source": [
    "a, b, c = '100', 25, '10.5'\n",
    "result1 = int(a) + b\n",
    "result2 = result1 - float(c)\n",
    "print(result1, result2, str(result2))\n"
   ]
  },
  {
   "cell_type": "markdown",
   "id": "2f3eadcd-306f-47e8-9296-5fbb3cf6140b",
   "metadata": {},
   "source": [
    "# Python Conditional Statements:"
   ]
  },
  {
   "cell_type": "markdown",
   "id": "fb260f9d-2efd-404e-8bb5-683ba46a3d40",
   "metadata": {},
   "source": [
    "### 11. Positive, Negative, or Zero: Write a Python program that takes a number as input and prints whether it is positive, negative, or zero."
   ]
  },
  {
   "cell_type": "code",
   "execution_count": 11,
   "id": "3ea2132a-08a5-4473-8888-d6449934cb1d",
   "metadata": {},
   "outputs": [
    {
     "name": "stdin",
     "output_type": "stream",
     "text": [
      "Enter a number:  43\n"
     ]
    },
    {
     "name": "stdout",
     "output_type": "stream",
     "text": [
      "The number is positive.\n"
     ]
    }
   ],
   "source": [
    "num = float(input(\"Enter a number: \"))\n",
    "\n",
    "if num > 0:\n",
    "    print(\"The number is positive.\")\n",
    "elif num < 0:\n",
    "    print(\"The number is negative.\")\n",
    "else:\n",
    "    print(\"The number is zero.\")\n"
   ]
  },
  {
   "cell_type": "markdown",
   "id": "f26e2cd9-14cc-4c9b-ad37-19e3462501e9",
   "metadata": {},
   "source": [
    "### 12. Largest of Three Numbers: Write a Python program that takes three numbers as input and prints the largest among them."
   ]
  },
  {
   "cell_type": "code",
   "execution_count": 12,
   "id": "d224b80d-4b6e-46c3-a456-e8c1d39ffa06",
   "metadata": {},
   "outputs": [
    {
     "name": "stdin",
     "output_type": "stream",
     "text": [
      "Enter first number:  3\n",
      "Enter second number:  4\n",
      "Enter third number:  7\n"
     ]
    },
    {
     "name": "stdout",
     "output_type": "stream",
     "text": [
      "The largest number is: 7.0\n"
     ]
    }
   ],
   "source": [
    "a = float(input(\"Enter first number: \"))\n",
    "b = float(input(\"Enter second number: \"))\n",
    "c = float(input(\"Enter third number: \"))\n",
    "\n",
    "print(\"The largest number is:\", max(a, b, c))\n"
   ]
  },
  {
   "cell_type": "markdown",
   "id": "736625cc-5458-4c3f-92c7-b966a34cd0e3",
   "metadata": {},
   "source": [
    "### 13. Leap Year Checker: Write a Python program that takes a year as input and determines if it is a leap year or not."
   ]
  },
  {
   "cell_type": "code",
   "execution_count": 13,
   "id": "0c589b46-a648-46e4-8921-bc6b04925d3a",
   "metadata": {},
   "outputs": [
    {
     "name": "stdin",
     "output_type": "stream",
     "text": [
      "Enter a year:  2000\n"
     ]
    },
    {
     "name": "stdout",
     "output_type": "stream",
     "text": [
      "It is a leap year.\n"
     ]
    }
   ],
   "source": [
    "year = int(input(\"Enter a year: \"))\n",
    "\n",
    "if (year % 4 == 0 and year % 100 != 0) or (year % 400 == 0):\n",
    "    print(\"It is a leap year.\")\n",
    "else:\n",
    "    print(\"It is not a leap year.\")\n"
   ]
  },
  {
   "cell_type": "markdown",
   "id": "502ebb68-53c9-467c-81a7-8dcb90668bde",
   "metadata": {},
   "source": [
    "### 14. Grades Classification: Write a Python program that takes a student’s percentage as input and prints their corresponding grade according to the following criteria: – 90% or above: A+ – 80-89%: A – 70-79%: B – 60-69%: C – Below 60%: Fail"
   ]
  },
  {
   "cell_type": "code",
   "execution_count": 14,
   "id": "60670759-422e-4b3b-8894-58082406b13f",
   "metadata": {},
   "outputs": [
    {
     "name": "stdin",
     "output_type": "stream",
     "text": [
      "Enter your percentage:  88\n"
     ]
    },
    {
     "name": "stdout",
     "output_type": "stream",
     "text": [
      "Grade: A\n"
     ]
    }
   ],
   "source": [
    "percentage = float(input(\"Enter your percentage: \"))\n",
    "\n",
    "if percentage >= 90:\n",
    "    print(\"Grade: A+\")\n",
    "elif percentage >= 80:\n",
    "    print(\"Grade: A\")\n",
    "elif percentage >= 70:\n",
    "    print(\"Grade: B\")\n",
    "elif percentage >= 60:\n",
    "    print(\"Grade: C\")\n",
    "else:\n",
    "    print(\"Grade: Fail\")\n"
   ]
  },
  {
   "cell_type": "markdown",
   "id": "a7bdfe92-37d8-4939-bf2f-e7d62d67b4ad",
   "metadata": {},
   "source": [
    "### 15. Vowel or Consonant: Write a Python program that takes a single character as input and determines whether it is a vowel or a consonant."
   ]
  },
  {
   "cell_type": "code",
   "execution_count": 15,
   "id": "3d95f3a5-41bc-4bde-94b3-d828eb57b090",
   "metadata": {},
   "outputs": [
    {
     "name": "stdin",
     "output_type": "stream",
     "text": [
      "Enter a character:  A\n"
     ]
    },
    {
     "name": "stdout",
     "output_type": "stream",
     "text": [
      "It is a vowel.\n"
     ]
    }
   ],
   "source": [
    "char = input(\"Enter a character: \").lower()\n",
    "\n",
    "if char in 'aeiou':\n",
    "    print(\"It is a vowel.\")\n",
    "else:\n",
    "    print(\"It is a consonant.\")\n"
   ]
  },
  {
   "cell_type": "markdown",
   "id": "264e07fc-fdff-4a49-8b7f-88f466ef9073",
   "metadata": {},
   "source": [
    "### 16. Time Classification: Write a Python program that takes the time in hours (24-hour format) as input and prints “Good Morning”, “Good Afternoon”, “Good Evening”, or “Good Night” based on the time."
   ]
  },
  {
   "cell_type": "markdown",
   "id": "7956570b-c9ec-4de3-b74a-c51ca001369d",
   "metadata": {},
   "source": [
    "### hour = int(input(\"Enter the time in hours (24-hour format): \"))\n",
    "\n",
    "if 5 <= hour < 12:\n",
    "    print(\"Good Morning\")\n",
    "elif 12 <= hour < 17:\n",
    "    print(\"Good Afternoon\")\n",
    "elif 17 <= hour < 21:\n",
    "    print(\"Good Evening\")\n",
    "else:\n",
    "    print(\"Good Night\")\n"
   ]
  },
  {
   "cell_type": "markdown",
   "id": "84366dc8-4bf8-432a-8ef8-56b54d765e09",
   "metadata": {},
   "source": [
    "### 17. Triangle Type Checker: Write a Python program that takes three sides of a triangle as input and determines whether it forms an equilateral, isosceles, or scalene triangle."
   ]
  },
  {
   "cell_type": "code",
   "execution_count": 16,
   "id": "9dbe5d0f-f871-40d8-b756-1ae457fed7f9",
   "metadata": {},
   "outputs": [
    {
     "name": "stdin",
     "output_type": "stream",
     "text": [
      "Enter the first side:  33\n",
      "Enter the second side:  33\n",
      "Enter the third side:  442\n"
     ]
    },
    {
     "name": "stdout",
     "output_type": "stream",
     "text": [
      "It is an isosceles triangle.\n"
     ]
    }
   ],
   "source": [
    "a = float(input(\"Enter the first side: \"))\n",
    "b = float(input(\"Enter the second side: \"))\n",
    "c = float(input(\"Enter the third side: \"))\n",
    "\n",
    "if a == b == c:\n",
    "    print(\"It is an equilateral triangle.\")\n",
    "elif a == b or b == c or a == c:\n",
    "    print(\"It is an isosceles triangle.\")\n",
    "else:\n",
    "    print(\"It is a scalene triangle.\")\n"
   ]
  },
  {
   "cell_type": "markdown",
   "id": "5797d6a2-66c8-4798-ac31-0cdce7ace3b2",
   "metadata": {},
   "source": [
    "### 18. Quadratic Equation Solver: Write a Python program that takes the coefficients (a, b, c) of a quadratic equation as input and calculates and prints the real roots (if they exist) or a message indicating the complex roots."
   ]
  },
  {
   "cell_type": "code",
   "execution_count": 17,
   "id": "b58a4dce-c599-4d4a-9746-fb7550d7cc62",
   "metadata": {},
   "outputs": [
    {
     "name": "stdin",
     "output_type": "stream",
     "text": [
      "Enter the coefficient a:  4\n",
      "Enter the coefficient b:  43\n",
      "Enter the coefficient c:  33\n"
     ]
    },
    {
     "name": "stdout",
     "output_type": "stream",
     "text": [
      "The roots are real and different: -0.8318045386534383 and -9.918195461346562\n"
     ]
    }
   ],
   "source": [
    "import cmath\n",
    "\n",
    "# Take input for coefficients a, b, and c\n",
    "a = float(input(\"Enter the coefficient a: \"))\n",
    "b = float(input(\"Enter the coefficient b: \"))\n",
    "c = float(input(\"Enter the coefficient c: \"))\n",
    "\n",
    "# Calculate the discriminant\n",
    "discriminant = b**2 - 4*a*c\n",
    "\n",
    "# Calculate the roots using cmath to handle complex roots\n",
    "root1 = (-b + cmath.sqrt(discriminant)) / (2 * a)\n",
    "root2 = (-b - cmath.sqrt(discriminant)) / (2 * a)\n",
    "\n",
    "# Check if roots are real or complex\n",
    "if discriminant > 0:\n",
    "    print(f\"The roots are real and different: {root1.real} and {root2.real}\")\n",
    "elif discriminant == 0:\n",
    "    print(f\"The roots are real and equal: {root1.real}\")\n",
    "else:\n",
    "    print(f\"The roots are complex: {root1} and {root2}\")\n"
   ]
  },
  {
   "cell_type": "markdown",
   "id": "5f07500c-614b-418c-b8db-4cf35dbfa465",
   "metadata": {},
   "source": [
    "### 19. Number Ranges: Write a Python program that takes an integer as input and prints whether the number falls within the ranges: 0-50, 51-100, 101-150, or above 150."
   ]
  },
  {
   "cell_type": "code",
   "execution_count": 18,
   "id": "ba4c1049-267d-4768-a2b4-90b4168ee044",
   "metadata": {},
   "outputs": [
    {
     "name": "stdin",
     "output_type": "stream",
     "text": [
      "Enter a number:  32\n"
     ]
    },
    {
     "name": "stdout",
     "output_type": "stream",
     "text": [
      "The number is in the range 0-50.\n"
     ]
    }
   ],
   "source": [
    "num = int(input(\"Enter a number: \"))\n",
    "\n",
    "if 0 <= num <= 50:\n",
    "    print(\"The number is in the range 0-50.\")\n",
    "elif 51 <= num <= 100:\n",
    "    print(\"The number is in the range 51-100.\")\n",
    "elif 101 <= num <= 150:\n",
    "    print(\"The number is in the range 101-150.\")\n",
    "else:\n",
    "    print(\"The number is above 150.\")\n"
   ]
  },
  {
   "cell_type": "markdown",
   "id": "cad3b2b8-d493-4926-adac-7fc315ceef90",
   "metadata": {},
   "source": [
    "# For & While Loops:"
   ]
  },
  {
   "cell_type": "markdown",
   "id": "92c8d7da-c96f-4df5-b2fc-08c2a8cd4c09",
   "metadata": {},
   "source": [
    "### 20. Sum of N Numbers: Write a Python program using a for loop to calculate the sum of the first N natural numbers, where N is taken as input from the user."
   ]
  },
  {
   "cell_type": "code",
   "execution_count": 19,
   "id": "62aa686d-df0e-427b-bf7d-6a3c3f095679",
   "metadata": {},
   "outputs": [
    {
     "name": "stdin",
     "output_type": "stream",
     "text": [
      "Enter a number N:  33\n"
     ]
    },
    {
     "name": "stdout",
     "output_type": "stream",
     "text": [
      "The sum of the first 33 natural numbers is: 561\n"
     ]
    }
   ],
   "source": [
    "N = int(input(\"Enter a number N: \"))\n",
    "sum_of_numbers = 0\n",
    "\n",
    "for i in range(1, N + 1):\n",
    "    sum_of_numbers += i\n",
    "\n",
    "print(f\"The sum of the first {N} natural numbers is: {sum_of_numbers}\")\n"
   ]
  },
  {
   "cell_type": "markdown",
   "id": "15c3a39d-74f0-4b6f-af0e-53665f61ea61",
   "metadata": {},
   "source": [
    "### 21. Factorial Calculator: Write a Python program using a while loop to calculate the factorial of a given number N."
   ]
  },
  {
   "cell_type": "code",
   "execution_count": 20,
   "id": "b339431b-a91f-436d-885e-964366cb12ea",
   "metadata": {},
   "outputs": [
    {
     "name": "stdin",
     "output_type": "stream",
     "text": [
      "Enter a number N:  5\n"
     ]
    },
    {
     "name": "stdout",
     "output_type": "stream",
     "text": [
      "The factorial is: 120\n"
     ]
    }
   ],
   "source": [
    "N = int(input(\"Enter a number N: \"))\n",
    "factorial = 1\n",
    "\n",
    "while N > 1:\n",
    "    factorial *= N\n",
    "    N -= 1\n",
    "\n",
    "print(f\"The factorial is: {factorial}\")\n"
   ]
  },
  {
   "cell_type": "markdown",
   "id": "29bc25fa-cacb-4f3b-90c1-e7fc4f5e2fef",
   "metadata": {},
   "source": [
    "### 22. Table of a Number: Write a Python program using a for loop to print the multiplication table of a given number N."
   ]
  },
  {
   "cell_type": "code",
   "execution_count": 21,
   "id": "1346c8e5-10d6-40c3-9e21-9b89de9bf808",
   "metadata": {},
   "outputs": [
    {
     "name": "stdin",
     "output_type": "stream",
     "text": [
      "Enter a number N:  5\n"
     ]
    },
    {
     "name": "stdout",
     "output_type": "stream",
     "text": [
      "5 x 1 = 5\n",
      "5 x 2 = 10\n",
      "5 x 3 = 15\n",
      "5 x 4 = 20\n",
      "5 x 5 = 25\n",
      "5 x 6 = 30\n",
      "5 x 7 = 35\n",
      "5 x 8 = 40\n",
      "5 x 9 = 45\n",
      "5 x 10 = 50\n"
     ]
    }
   ],
   "source": [
    "N = int(input(\"Enter a number N: \"))\n",
    "\n",
    "for i in range(1, 11):\n",
    "    print(f\"{N} x {i} = {N * i}\")\n"
   ]
  },
  {
   "cell_type": "markdown",
   "id": "58d75132-8dbd-43a9-9a65-1375b88b882e",
   "metadata": {},
   "source": [
    "### 23. Count Digits in a Number: Write a Python program using a while loop to count the number of digits in a given integer N."
   ]
  },
  {
   "cell_type": "code",
   "execution_count": 22,
   "id": "3f12cf87-97bd-4314-8498-11bd514e808c",
   "metadata": {},
   "outputs": [
    {
     "name": "stdin",
     "output_type": "stream",
     "text": [
      "Enter a number N:  5\n"
     ]
    },
    {
     "name": "stdout",
     "output_type": "stream",
     "text": [
      "The number of digits is: 1\n"
     ]
    }
   ],
   "source": [
    "N = int(input(\"Enter a number N: \"))\n",
    "count = 0\n",
    "\n",
    "while N != 0:\n",
    "    N //= 10\n",
    "    count += 1\n",
    "\n",
    "print(f\"The number of digits is: {count}\")\n"
   ]
  },
  {
   "cell_type": "markdown",
   "id": "dbc0da5c-577e-43c3-a8b7-95226607554d",
   "metadata": {},
   "source": [
    "### 24. Fibonacci Sequence: Write a Python program using a for loop to generate the Fibonacci sequence up to a given limit N."
   ]
  },
  {
   "cell_type": "code",
   "execution_count": 23,
   "id": "08f735df-2a95-4ed5-bf06-ab700839b9a7",
   "metadata": {},
   "outputs": [
    {
     "name": "stdin",
     "output_type": "stream",
     "text": [
      "Enter the limit N:  5\n"
     ]
    },
    {
     "name": "stdout",
     "output_type": "stream",
     "text": [
      "Fibonacci sequence up to 5 :\n",
      "0 1 1 2 3 "
     ]
    }
   ],
   "source": [
    "N = int(input(\"Enter the limit N: \"))\n",
    "a, b = 0, 1\n",
    "\n",
    "print(\"Fibonacci sequence up to\", N, \":\")\n",
    "\n",
    "for i in range(N):\n",
    "    print(a, end=\" \")\n",
    "    temp = a\n",
    "    a = b\n",
    "    b = temp + b\n"
   ]
  },
  {
   "cell_type": "markdown",
   "id": "e6f99b8a-c46f-4dfd-9e18-d46c5d805884",
   "metadata": {},
   "source": [
    "### 25. Sum of Even Numbers: Write a Python program using a while loop to calculate the sum of all even numbers between 1 and N, where N is taken as input from the user."
   ]
  },
  {
   "cell_type": "code",
   "execution_count": 24,
   "id": "a0995bea-7685-4b2d-a75c-b3dfd2240003",
   "metadata": {},
   "outputs": [
    {
     "name": "stdin",
     "output_type": "stream",
     "text": [
      "Enter a number N:  5\n"
     ]
    },
    {
     "name": "stdout",
     "output_type": "stream",
     "text": [
      "The sum of all even numbers between 1 and 5 is: 6\n"
     ]
    }
   ],
   "source": [
    "N = int(input(\"Enter a number N: \"))\n",
    "sum_even = 0\n",
    "i = 2\n",
    "\n",
    "while i <= N:\n",
    "    sum_even += i\n",
    "    i += 2\n",
    "\n",
    "print(f\"The sum of all even numbers between 1 and {N} is: {sum_even}\")\n"
   ]
  },
  {
   "cell_type": "markdown",
   "id": "cd13fd4c-1433-405b-9ac5-0796a22ab335",
   "metadata": {},
   "source": [
    "### 26. Print Patterns: Write a Python program using nested for loops to print various patterns, such as a right-angled triangle, an inverted right-angled triangle, and so on."
   ]
  },
  {
   "cell_type": "code",
   "execution_count": 25,
   "id": "42712173-0dfc-4528-b92e-9572ff74b6fc",
   "metadata": {},
   "outputs": [
    {
     "name": "stdout",
     "output_type": "stream",
     "text": [
      " Right-Angled Triangle:\n",
      "*\n",
      "**\n",
      "***\n",
      "****\n",
      "*****\n",
      "\n",
      " Inverted Right-Angled Triangle:\n",
      "*****\n",
      "****\n",
      "***\n",
      "**\n",
      "*\n",
      "\n",
      " Pyramid:\n",
      "    *\n",
      "   ***\n",
      "  *****\n",
      " *******\n",
      "*********\n",
      "\n",
      " Inverted Pyramid:\n",
      "*********\n",
      " *******\n",
      "  *****\n",
      "   ***\n",
      "    *\n"
     ]
    }
   ],
   "source": [
    "print(\" Right-Angled Triangle:\")\n",
    "rows = 5\n",
    "for i in range(1, rows + 1):\n",
    "    print('*' * i)\n",
    "\n",
    "print(\"\\n Inverted Right-Angled Triangle:\")\n",
    "for i in range(rows, 0, -1):\n",
    "    print('*' * i)\n",
    "\n",
    "print(\"\\n Pyramid:\")\n",
    "for i in range(1, rows + 1):\n",
    "    print(' ' * (rows - i) + '*' * (2 * i - 1))\n",
    "\n",
    "print(\"\\n Inverted Pyramid:\")\n",
    "for i in range(rows, 0, -1):\n",
    "    print(' ' * (rows - i) + '*' * (2 * i - 1))\n"
   ]
  },
  {
   "cell_type": "markdown",
   "id": "96e8ef7b-766b-4826-a553-74ca46562bfe",
   "metadata": {},
   "source": [
    "### 27. Prime Number Checker: Write a Python program using a while loop to check if a given number N is prime or not."
   ]
  },
  {
   "cell_type": "code",
   "execution_count": 26,
   "id": "9c909183-8bbc-46a3-8914-cf7e6f9f65e7",
   "metadata": {},
   "outputs": [
    {
     "name": "stdin",
     "output_type": "stream",
     "text": [
      "Enter a number N:  5\n"
     ]
    },
    {
     "name": "stdout",
     "output_type": "stream",
     "text": [
      "5 is a prime number.\n"
     ]
    }
   ],
   "source": [
    "N = int(input(\"Enter a number N: \"))\n",
    "i = 2\n",
    "is_prime = True\n",
    "\n",
    "while i <= N // 2:\n",
    "    if N % i == 0:\n",
    "        is_prime = False\n",
    "        break\n",
    "    i += 1\n",
    "\n",
    "if is_prime and N > 1:\n",
    "    print(f\"{N} is a prime number.\")\n",
    "else:\n",
    "    print(f\"{N} is not a prime number.\")\n"
   ]
  },
  {
   "cell_type": "markdown",
   "id": "5ba07c92-6490-4346-802d-72ec70024bcb",
   "metadata": {},
   "source": [
    "### 28. List Manipulation: Given a list of integers, write a Python program using a for loop to find the sum, average, maximum, and minimum values in the list."
   ]
  },
  {
   "cell_type": "code",
   "execution_count": 27,
   "id": "dd8e9be4-e2b0-42e9-b517-7d711834de4b",
   "metadata": {},
   "outputs": [
    {
     "name": "stdout",
     "output_type": "stream",
     "text": [
      "Sum: 150\n",
      "Average: 30.0\n",
      "Maximum: 50\n",
      "Minimum: 10\n"
     ]
    }
   ],
   "source": [
    "numbers = [10, 20, 30, 40, 50]\n",
    "\n",
    "sum_numbers = 0\n",
    "max_value = numbers[0]\n",
    "min_value = numbers[0]\n",
    "\n",
    "for num in numbers:\n",
    "    sum_numbers += num\n",
    "    if num > max_value:\n",
    "        max_value = num\n",
    "    if num < min_value:\n",
    "        min_value = num\n",
    "\n",
    "average = sum_numbers / len(numbers)\n",
    "\n",
    "print(f\"Sum: {sum_numbers}\")\n",
    "print(f\"Average: {average}\")\n",
    "print(f\"Maximum: {max_value}\")\n",
    "print(f\"Minimum: {min_value}\")\n"
   ]
  },
  {
   "cell_type": "markdown",
   "id": "db011e1f-9b01-47d9-b8cf-a2dbf930bbb7",
   "metadata": {},
   "source": [
    "### 29. Reverse String: Write a Python program using a while loop to reverse a given string."
   ]
  },
  {
   "cell_type": "code",
   "execution_count": 28,
   "id": "15547160-0353-42ea-be43-02b87101c6e4",
   "metadata": {},
   "outputs": [
    {
     "name": "stdin",
     "output_type": "stream",
     "text": [
      "Enter a string:  5\n"
     ]
    },
    {
     "name": "stdout",
     "output_type": "stream",
     "text": [
      "Reversed string: 5\n"
     ]
    }
   ],
   "source": [
    "string = input(\"Enter a string: \")\n",
    "reversed_string = \"\"\n",
    "index = len(string) - 1\n",
    "\n",
    "while index >= 0:\n",
    "    reversed_string += string[index]\n",
    "    index -= 1\n",
    "\n",
    "print(f\"Reversed string: {reversed_string}\")\n"
   ]
  },
  {
   "cell_type": "markdown",
   "id": "8d686ced-0fe1-4e67-8e90-d81995df02b1",
   "metadata": {},
   "source": [
    "# Nested Loops:"
   ]
  },
  {
   "cell_type": "markdown",
   "id": "d0928001-6bef-49bf-840f-c4da35481ad5",
   "metadata": {},
   "source": [
    "### 30. Multiplication Table: Write a Python program using nested loops to print the multiplication table from 1 to 10."
   ]
  },
  {
   "cell_type": "code",
   "execution_count": 29,
   "id": "751968e4-95a3-412a-b854-ea93ca4cb6c3",
   "metadata": {},
   "outputs": [
    {
     "name": "stdout",
     "output_type": "stream",
     "text": [
      "1\t2\t3\t4\t5\t6\t7\t8\t9\t10\t\n",
      "2\t4\t6\t8\t10\t12\t14\t16\t18\t20\t\n",
      "3\t6\t9\t12\t15\t18\t21\t24\t27\t30\t\n",
      "4\t8\t12\t16\t20\t24\t28\t32\t36\t40\t\n",
      "5\t10\t15\t20\t25\t30\t35\t40\t45\t50\t\n",
      "6\t12\t18\t24\t30\t36\t42\t48\t54\t60\t\n",
      "7\t14\t21\t28\t35\t42\t49\t56\t63\t70\t\n",
      "8\t16\t24\t32\t40\t48\t56\t64\t72\t80\t\n",
      "9\t18\t27\t36\t45\t54\t63\t72\t81\t90\t\n",
      "10\t20\t30\t40\t50\t60\t70\t80\t90\t100\t\n"
     ]
    }
   ],
   "source": [
    "for i in range(1, 11):\n",
    "    for j in range(1, 11):\n",
    "        print(i * j, end=\"\\t\")\n",
    "    print()\n"
   ]
  },
  {
   "cell_type": "markdown",
   "id": "98cb13e8-b890-42e6-8bcc-935c203557f5",
   "metadata": {},
   "source": [
    "### 31. Print Patterns: Write a Python program using nested loops to print the following pattern:\n",
    "\n",
    "##### *\n",
    "\n",
    "##### **\n",
    "\n",
    "##### ***\n",
    "\n",
    "##### ****\n",
    "\n",
    "##### *****"
   ]
  },
  {
   "cell_type": "code",
   "execution_count": 30,
   "id": "5a60de0d-1a4b-4ebe-8d9c-e83d4eeaf70e",
   "metadata": {},
   "outputs": [
    {
     "name": "stdout",
     "output_type": "stream",
     "text": [
      "*\n",
      "**\n",
      "***\n",
      "****\n",
      "*****\n"
     ]
    }
   ],
   "source": [
    "for i in range(1, 6):\n",
    "    print('*' * i)\n"
   ]
  },
  {
   "cell_type": "markdown",
   "id": "0bb8f051-c9fa-436a-bb94-d137714c9b1f",
   "metadata": {},
   "source": [
    "### 32. Matrix Multiplication: Write a Python program using nested loops to multiply two matrices."
   ]
  },
  {
   "cell_type": "code",
   "execution_count": 31,
   "id": "4c24f49b-7967-476e-9427-46139386ad0c",
   "metadata": {},
   "outputs": [
    {
     "name": "stdout",
     "output_type": "stream",
     "text": [
      "[19, 22]\n",
      "[43, 50]\n"
     ]
    }
   ],
   "source": [
    "A = [[1, 2], [3, 4]]\n",
    "B = [[5, 6], [7, 8]]\n",
    "result = [[0, 0], [0, 0]]\n",
    "\n",
    "for i in range(len(A)):\n",
    "    for j in range(len(B[0])):\n",
    "        for k in range(len(B)):\n",
    "            result[i][j] += A[i][k] * B[k][j]\n",
    "\n",
    "for row in result:\n",
    "    print(row)\n"
   ]
  },
  {
   "cell_type": "markdown",
   "id": "83d76bd0-2948-4542-87a6-fd4820036a02",
   "metadata": {},
   "source": [
    "### 33. Chessboard Pattern: Write a Python program using nested loops to print a chessboard pattern (alternating “X” and “O” characters) of size 8×8.34. Number Pyramid: Write a Python program using nested loops to print a number pyramid like the following: 1 22 333 4444 55555\n"
   ]
  },
  {
   "cell_type": "code",
   "execution_count": 32,
   "id": "e00ec9ef-fa43-4fa5-a5cb-4300cb5f006b",
   "metadata": {},
   "outputs": [
    {
     "name": "stdout",
     "output_type": "stream",
     "text": [
      "X O X O X O X O \n",
      "O X O X O X O X \n",
      "X O X O X O X O \n",
      "O X O X O X O X \n",
      "X O X O X O X O \n",
      "O X O X O X O X \n",
      "X O X O X O X O \n",
      "O X O X O X O X \n"
     ]
    }
   ],
   "source": [
    "for i in range(8):\n",
    "    for j in range(8):\n",
    "        if (i + j) % 2 == 0:\n",
    "            print(\"X\", end=\" \")\n",
    "        else:\n",
    "            print(\"O\", end=\" \")\n",
    "    print()\n"
   ]
  },
  {
   "cell_type": "markdown",
   "id": "7b578c5e-3325-47d7-860f-0593f218a9b8",
   "metadata": {},
   "source": [
    "# List Problems:"
   ]
  },
  {
   "cell_type": "markdown",
   "id": "f5a4c93c-84d0-437c-b6cc-5d5342e92f70",
   "metadata": {},
   "source": [
    "### 34. List Sum: Write a Python program to find the sum of all elements in a given list of integers."
   ]
  },
  {
   "cell_type": "code",
   "execution_count": 33,
   "id": "fe5bff33-5b5f-4d4a-85e2-e4cd96f8a44a",
   "metadata": {},
   "outputs": [
    {
     "name": "stdout",
     "output_type": "stream",
     "text": [
      "15\n"
     ]
    }
   ],
   "source": [
    "numbers = [1, 2, 3, 4, 5]\n",
    "print(sum(numbers))\n"
   ]
  },
  {
   "cell_type": "markdown",
   "id": "a63a7213-09f8-406f-819c-1bc56fd53cf6",
   "metadata": {},
   "source": [
    "### 35. List Average: Write a Python program to calculate the average of all elements in a given list of integers.\n"
   ]
  },
  {
   "cell_type": "code",
   "execution_count": 34,
   "id": "6f042dd1-6e1c-4a11-9cdb-e4118a831355",
   "metadata": {},
   "outputs": [
    {
     "name": "stdout",
     "output_type": "stream",
     "text": [
      "3.0\n"
     ]
    }
   ],
   "source": [
    "numbers = [1, 2, 3, 4, 5]\n",
    "print(sum(numbers) / len(numbers))"
   ]
  },
  {
   "cell_type": "markdown",
   "id": "e449022b-6801-4b58-b7fd-402ae6e36f4b",
   "metadata": {},
   "source": [
    "### 36. List Max and Min: Write a Python program to find the maximum and minimum values in a given list of integers."
   ]
  },
  {
   "cell_type": "code",
   "execution_count": 35,
   "id": "805d497d-e055-455f-905d-576a34b3561e",
   "metadata": {},
   "outputs": [
    {
     "name": "stdout",
     "output_type": "stream",
     "text": [
      "Max: 5\n",
      "Min: 1\n"
     ]
    }
   ],
   "source": [
    "numbers = [1, 2, 3, 4, 5]\n",
    "print(\"Max:\", max(numbers))\n",
    "print(\"Min:\", min(numbers))"
   ]
  },
  {
   "cell_type": "markdown",
   "id": "2b2aa17b-64b0-41f4-8136-99163b31f1a3",
   "metadata": {},
   "source": [
    "### 37. List Sorting: Write a Python program to sort a list of integers in ascending order."
   ]
  },
  {
   "cell_type": "code",
   "execution_count": 36,
   "id": "1eaf1663-fc96-49db-8b6b-1eb03b936f3d",
   "metadata": {},
   "outputs": [
    {
     "name": "stdout",
     "output_type": "stream",
     "text": [
      "[1, 2, 3, 5, 8]\n"
     ]
    }
   ],
   "source": [
    "numbers = [5, 2, 8, 1, 3]\n",
    "numbers.sort()\n",
    "print(numbers)"
   ]
  },
  {
   "cell_type": "markdown",
   "id": "70560861-780a-4b5f-9958-a9bf61b6a3f0",
   "metadata": {},
   "source": [
    "### 38. List Filtering: Given a list of integers, write a Python program to create a new list that contains only the even numbers from the original list."
   ]
  },
  {
   "cell_type": "code",
   "execution_count": 37,
   "id": "1f2d19d8-bd61-4019-b2d5-244d270dfd82",
   "metadata": {},
   "outputs": [
    {
     "name": "stdout",
     "output_type": "stream",
     "text": [
      "[2, 4, 6]\n"
     ]
    }
   ],
   "source": [
    "numbers = [1, 2, 3, 4, 5, 6]\n",
    "even_numbers = [x for x in numbers if x % 2 == 0]\n",
    "print(even_numbers)"
   ]
  },
  {
   "cell_type": "markdown",
   "id": "4760129d-8955-4a34-a2c8-1809a91e66a6",
   "metadata": {},
   "source": [
    "### 39. List Reversal: Write a Python program to reverse a given list without using any built-in functions."
   ]
  },
  {
   "cell_type": "code",
   "execution_count": 38,
   "id": "fc64f382-b9d0-48da-9be2-00fcf49a564f",
   "metadata": {},
   "outputs": [
    {
     "name": "stdout",
     "output_type": "stream",
     "text": [
      "[5, 4, 3, 2, 1]\n"
     ]
    }
   ],
   "source": [
    "numbers = [1, 2, 3, 4, 5]\n",
    "reversed_list = []\n",
    "for num in numbers:\n",
    "    reversed_list.insert(0, num)\n",
    "print(reversed_list)\n"
   ]
  },
  {
   "cell_type": "markdown",
   "id": "e84cd717-035f-4d43-ae5e-f288f6f97cf0",
   "metadata": {},
   "source": [
    "### 40. List Manipulation: Given two lists of integers, write a Python program to create a new list that contains elements common to both lists."
   ]
  },
  {
   "cell_type": "code",
   "execution_count": 39,
   "id": "9634d822-807c-4200-ab5c-1dbe2ed0d67b",
   "metadata": {},
   "outputs": [
    {
     "name": "stdout",
     "output_type": "stream",
     "text": [
      "[3, 4]\n"
     ]
    }
   ],
   "source": [
    "list1 = [1, 2, 3, 4]\n",
    "list2 = [3, 4, 5, 6]\n",
    "common_elements = [value for value in list1 if value in list2]\n",
    "print(common_elements)"
   ]
  },
  {
   "cell_type": "markdown",
   "id": "7f091f24-28be-480b-9bf8-da2af0e71c1b",
   "metadata": {},
   "source": [
    "### 41. List Element Count: Write a Python program to count the occurrences of a specific element in a given list."
   ]
  },
  {
   "cell_type": "code",
   "execution_count": 40,
   "id": "0c3ff5ae-7f8f-40cb-b340-1f9f3f142d45",
   "metadata": {},
   "outputs": [
    {
     "name": "stdout",
     "output_type": "stream",
     "text": [
      "2 occurs 3 times.\n"
     ]
    }
   ],
   "source": [
    "numbers = [1, 2, 2, 3, 4, 5, 2]\n",
    "element = 2\n",
    "count = numbers.count(element)\n",
    "print(f\"{element} occurs {count} times.\")"
   ]
  },
  {
   "cell_type": "markdown",
   "id": "460221c7-a90a-4046-91ca-d6fbb7364bb5",
   "metadata": {},
   "source": [
    "### 42. List Duplicates Removal: Write a Python program to remove duplicates from a given list while preserving the order of the elements"
   ]
  },
  {
   "cell_type": "code",
   "execution_count": 41,
   "id": "2f632272-2010-4d0a-8f5d-d0f46adae11c",
   "metadata": {},
   "outputs": [
    {
     "name": "stdout",
     "output_type": "stream",
     "text": [
      "[1, 2, 3, 4, 5]\n"
     ]
    }
   ],
   "source": [
    "numbers = [1, 2, 2, 3, 4, 4, 5]\n",
    "unique_numbers = []\n",
    "for num in numbers:\n",
    "    if num not in unique_numbers:\n",
    "        unique_numbers.append(num)\n",
    "print(unique_numbers)"
   ]
  },
  {
   "cell_type": "markdown",
   "id": "d32116ca-9c44-45fa-9bae-b7305083b81e",
   "metadata": {},
   "source": [
    "### 43. List Comprehension: Given a list of integers, write a Python program to create a new list that contains the squares of the elements using list comprehension."
   ]
  },
  {
   "cell_type": "code",
   "execution_count": 42,
   "id": "c2c43471-5668-4290-9ea1-702256905597",
   "metadata": {},
   "outputs": [
    {
     "name": "stdout",
     "output_type": "stream",
     "text": [
      "[1, 4, 9, 16, 25]\n"
     ]
    }
   ],
   "source": [
    "numbers = [1, 2, 3, 4, 5]\n",
    "squares = [x**2 for x in numbers]\n",
    "print(squares)"
   ]
  },
  {
   "cell_type": "markdown",
   "id": "06c4cc3c-f50b-4c30-92f2-c3fa7dd96c63",
   "metadata": {},
   "source": [
    "# Nested List Problems:"
   ]
  },
  {
   "cell_type": "markdown",
   "id": "6d344de9-b721-4861-bef4-3c5b2a04ff4f",
   "metadata": {},
   "source": [
    "### 44. Matrix Addition: Write a Python program to add two matrices represented as nested lists."
   ]
  },
  {
   "cell_type": "code",
   "execution_count": 43,
   "id": "bdd836c6-06df-420e-8e30-111e7301f964",
   "metadata": {},
   "outputs": [
    {
     "name": "stdout",
     "output_type": "stream",
     "text": [
      "[6, 8]\n",
      "[10, 12]\n"
     ]
    }
   ],
   "source": [
    "A = [[1, 2], [3, 4]]\n",
    "B = [[5, 6], [7, 8]]\n",
    "result = [[A[i][j] + B[i][j] for j in range(len(A[0]))] for i in range(len(A))]\n",
    "\n",
    "for row in result:\n",
    "    print(row)"
   ]
  },
  {
   "cell_type": "markdown",
   "id": "ff207774-fa43-4f75-af91-45360b617f6f",
   "metadata": {},
   "source": [
    "### 45. Flatten Nested List: Write a Python program to flatten a given nested list and convert it into a single-dimensional list."
   ]
  },
  {
   "cell_type": "code",
   "execution_count": 44,
   "id": "72b921d1-b0c3-4921-98c8-f44c88e52bb5",
   "metadata": {},
   "outputs": [
    {
     "name": "stdout",
     "output_type": "stream",
     "text": [
      "[1, 2, 3, 4, 5, 6]\n"
     ]
    }
   ],
   "source": [
    "nested_list = [[1, 2], [3, 4], [5, 6]]\n",
    "flat_list = [item for sublist in nested_list for item in sublist]\n",
    "print(flat_list)"
   ]
  },
  {
   "cell_type": "markdown",
   "id": "cdc99c98-eb4d-4536-bd6e-b051e771898f",
   "metadata": {},
   "source": [
    "### 46. List Element Frequency: Given a nested list containing lists of integers, write a Python program to count the frequency of each element in the entire nested list."
   ]
  },
  {
   "cell_type": "code",
   "execution_count": 45,
   "id": "932db3b6-2cd9-4415-b747-a7d8d1792de5",
   "metadata": {},
   "outputs": [
    {
     "name": "stdout",
     "output_type": "stream",
     "text": [
      "{1: 1, 2: 2, 3: 2, 4: 2}\n"
     ]
    }
   ],
   "source": [
    "nested_list = [[1, 2], [3, 4], [2, 3, 4]]\n",
    "flat_list = [item for sublist in nested_list for item in sublist]\n",
    "element_count = {x: flat_list.count(x) for x in set(flat_list)}\n",
    "print(element_count)"
   ]
  },
  {
   "cell_type": "markdown",
   "id": "3bb99160-3f56-4d9d-a367-5cd2fe8102f3",
   "metadata": {},
   "source": [
    "### 47. Transpose Matrix: Write a Python program to transpose a given matrix represented as a nested list."
   ]
  },
  {
   "cell_type": "code",
   "execution_count": 46,
   "id": "5f540cc1-bb17-4621-a10b-da5dc20b6821",
   "metadata": {},
   "outputs": [
    {
     "name": "stdout",
     "output_type": "stream",
     "text": [
      "[1, 3]\n",
      "[2, 4]\n"
     ]
    }
   ],
   "source": [
    "matrix = [[1, 2], [3, 4]]\n",
    "transposed_matrix = [[matrix[j][i] for j in range(len(matrix))] for i in range(len(matrix[0]))]\n",
    "for row in transposed_matrix:\n",
    "    print(row)\n"
   ]
  },
  {
   "cell_type": "markdown",
   "id": "bd673882-865b-48ee-b9b0-7e4bf52b4f03",
   "metadata": {},
   "source": [
    "### 48. List of Lists Concatenation: Given a list of nested lists, write a Python program to concatenate all the sublists into a single flat list."
   ]
  },
  {
   "cell_type": "code",
   "execution_count": 47,
   "id": "c3ae12e3-faea-4888-b225-56da9e682fbe",
   "metadata": {},
   "outputs": [
    {
     "name": "stdout",
     "output_type": "stream",
     "text": [
      "[1, 2, 3, 4, 5, 6]\n"
     ]
    }
   ],
   "source": [
    "nested_lists = [[1, 2], [3, 4], [5, 6]]\n",
    "flat_list = sum(nested_lists, [])\n",
    "print(flat_list)"
   ]
  },
  {
   "cell_type": "markdown",
   "id": "5d9316f4-e3fe-41b7-aba3-06b50fc1cab8",
   "metadata": {},
   "source": [
    "# Tuple Problems:"
   ]
  },
  {
   "cell_type": "markdown",
   "id": "87f5e1e5-9929-4659-a30e-7d2d62eb8c7f",
   "metadata": {},
   "source": [
    "### 49. Tuple Concatenation: Write a Python program to concatenate two tuples and create a new tuple"
   ]
  },
  {
   "cell_type": "code",
   "execution_count": 48,
   "id": "1c8c13c6-ec2b-40f0-b609-74f7f5c0b6cc",
   "metadata": {},
   "outputs": [
    {
     "name": "stdout",
     "output_type": "stream",
     "text": [
      "(1, 2, 3, 4, 5, 6)\n"
     ]
    }
   ],
   "source": [
    "tuple1 = (1, 2, 3)\n",
    "tuple2 = (4, 5, 6)\n",
    "concatenated_tuple = tuple1 + tuple2\n",
    "print(concatenated_tuple)"
   ]
  },
  {
   "cell_type": "markdown",
   "id": "e58adbdf-78b3-44b6-9d89-6edf7d3f2747",
   "metadata": {},
   "source": [
    "### 50. Tuple Unpacking: Given a tuple with three elements (x, y, z), write a Python program to unpack the tuple and assign the values to three variables."
   ]
  },
  {
   "cell_type": "code",
   "execution_count": 49,
   "id": "da1b7031-4d54-4848-a652-0bbe671f6d91",
   "metadata": {},
   "outputs": [
    {
     "name": "stdout",
     "output_type": "stream",
     "text": [
      "1 2 3\n"
     ]
    }
   ],
   "source": [
    "tuple1 = (1, 2, 3)\n",
    "x, y, z = tuple1\n",
    "print(x, y, z)\n"
   ]
  },
  {
   "cell_type": "markdown",
   "id": "194c123a-0f8d-4cc4-a921-35d2ef91d156",
   "metadata": {},
   "source": [
    "### 51. Tuple Sorting: Write a Python program to sort a tuple of integers in ascending order."
   ]
  },
  {
   "cell_type": "code",
   "execution_count": 50,
   "id": "fee1f6a0-84d0-47d1-84ae-c28f0ad63e31",
   "metadata": {},
   "outputs": [
    {
     "name": "stdout",
     "output_type": "stream",
     "text": [
      "(1, 3, 5, 8)\n"
     ]
    }
   ],
   "source": [
    "tuple1 = (5, 3, 8, 1)\n",
    "sorted_tuple = tuple(sorted(tuple1))\n",
    "print(sorted_tuple)"
   ]
  },
  {
   "cell_type": "markdown",
   "id": "6855acd2-297f-427c-8b3a-5880f98d6fc6",
   "metadata": {},
   "source": [
    "### 52. Tuple Frequency Count: Given a tuple containing various elements, write a Python program to count the frequency of a specific element in the tuple."
   ]
  },
  {
   "cell_type": "code",
   "execution_count": 51,
   "id": "5d9725da-841c-4056-b32c-a32be9e0e4d1",
   "metadata": {},
   "outputs": [
    {
     "name": "stdout",
     "output_type": "stream",
     "text": [
      "2 appears 3 times.\n"
     ]
    }
   ],
   "source": [
    "tuple1 = (1, 2, 2, 3, 4, 2)\n",
    "count_2 = tuple1.count(2)\n",
    "print(f\"2 appears {count_2} times.\")\n"
   ]
  },
  {
   "cell_type": "markdown",
   "id": "410ebe4e-ad9b-45ca-8f54-9c7b7ab69e66",
   "metadata": {},
   "source": [
    "### 53. Tuple to List: Write a Python program to convert a tuple into a list. "
   ]
  },
  {
   "cell_type": "code",
   "execution_count": 52,
   "id": "bf42c3bc-6ff1-4216-b0af-514366022690",
   "metadata": {},
   "outputs": [
    {
     "name": "stdout",
     "output_type": "stream",
     "text": [
      "[1, 2, 3]\n"
     ]
    }
   ],
   "source": [
    "tuple1 = (1, 2, 3)\n",
    "list1 = list(tuple1)\n",
    "print(list1)\n"
   ]
  },
  {
   "cell_type": "markdown",
   "id": "a85ac75a-4451-4f5b-88e5-ccdfe3fd0187",
   "metadata": {},
   "source": [
    "### 54. Tuple Reversal: Write a Python program to reverse a tuple without using any built-in functions."
   ]
  },
  {
   "cell_type": "code",
   "execution_count": 53,
   "id": "e2dda8e5-1dcf-47df-9e93-04ed4c21ba58",
   "metadata": {},
   "outputs": [
    {
     "name": "stdout",
     "output_type": "stream",
     "text": [
      "(3, 2, 1)\n"
     ]
    }
   ],
   "source": [
    "tuple1 = (1, 2, 3)\n",
    "reversed_tuple = tuple1[::-1]\n",
    "print(reversed_tuple)"
   ]
  },
  {
   "cell_type": "markdown",
   "id": "dcaaf6fe-e398-4345-a9a7-3da4a5d9ee12",
   "metadata": {},
   "source": [
    "### 55. Tuple Slicing: Given a tuple, write a Python program to extract a slice of elements from it."
   ]
  },
  {
   "cell_type": "code",
   "execution_count": 54,
   "id": "a07fafed-72ad-4fe6-a33e-da7728ebcf33",
   "metadata": {},
   "outputs": [
    {
     "name": "stdout",
     "output_type": "stream",
     "text": [
      "(2, 3, 4)\n"
     ]
    }
   ],
   "source": [
    "tuple1 = (1, 2, 3, 4, 5)\n",
    "slice_tuple = tuple1[1:4]\n",
    "print(slice_tuple)"
   ]
  },
  {
   "cell_type": "markdown",
   "id": "064defbb-16c2-49de-8833-9e0e347cff1b",
   "metadata": {},
   "source": [
    "### 56. Tuple Operations: Given two tuples of integers, write a Python program to perform element-wise addition, subtraction, and multiplication and create new tuples for each operation."
   ]
  },
  {
   "cell_type": "code",
   "execution_count": 55,
   "id": "97f535d5-8a16-4af9-bce1-37351376c479",
   "metadata": {},
   "outputs": [
    {
     "name": "stdout",
     "output_type": "stream",
     "text": [
      "(5, 7, 9) (-3, -3, -3) (4, 10, 18)\n"
     ]
    }
   ],
   "source": [
    "tuple1 = (1, 2, 3)\n",
    "tuple2 = (4, 5, 6)\n",
    "add = tuple(x + y for x, y in zip(tuple1, tuple2))\n",
    "sub = tuple(x - y for x, y in zip(tuple1, tuple2))\n",
    "mul = tuple(x * y for x, y in zip(tuple1, tuple2))\n",
    "print(add, sub, mul)"
   ]
  },
  {
   "cell_type": "markdown",
   "id": "afaf51c4-440f-4668-aae7-73cefd99ebcd",
   "metadata": {},
   "source": [
    "### 57. Tuple Membership Test: Write a Python program that takes an element as input and checks if it exists in a given tuple."
   ]
  },
  {
   "cell_type": "code",
   "execution_count": 56,
   "id": "9baeb538-b73a-481c-9ce2-d300bc88c116",
   "metadata": {},
   "outputs": [
    {
     "name": "stdout",
     "output_type": "stream",
     "text": [
      "3 is in the tuple.\n"
     ]
    }
   ],
   "source": [
    "tuple1 = (1, 2, 3, 4, 5)\n",
    "element = 3\n",
    "if element in tuple1:\n",
    "    print(f\"{element} is in the tuple.\")\n",
    "else:\n",
    "    print(f\"{element} is not in the tuple.\")\n"
   ]
  },
  {
   "cell_type": "markdown",
   "id": "5ae196ee-1610-495b-bc01-9d866eeec5ce",
   "metadata": {},
   "source": [
    "### 58. Tuple Packing: Write a Python program to pack three variables into a single tuple and print the tuple."
   ]
  },
  {
   "cell_type": "code",
   "execution_count": 57,
   "id": "9451e94c-133d-43c2-9168-d5b0c7ff75f4",
   "metadata": {},
   "outputs": [
    {
     "name": "stdout",
     "output_type": "stream",
     "text": [
      "(1, 2, 3)\n"
     ]
    }
   ],
   "source": [
    "x, y, z = 1, 2, 3\n",
    "packed_tuple = (x, y, z)\n",
    "print(packed_tuple)\n"
   ]
  },
  {
   "cell_type": "markdown",
   "id": "8c8b41bd-e2b8-4278-b657-0b2db15c5a79",
   "metadata": {},
   "source": [
    "# Nested List Problems:"
   ]
  },
  {
   "cell_type": "markdown",
   "id": "9283fc77-e395-4b87-b020-5b159d853529",
   "metadata": {},
   "source": [
    "### 59. Nested List Element Access: Given a nested list, write a Python program to access and print specific elements from it."
   ]
  },
  {
   "cell_type": "code",
   "execution_count": 58,
   "id": "88bf386e-9501-40ad-8307-195efee696dc",
   "metadata": {},
   "outputs": [
    {
     "name": "stdout",
     "output_type": "stream",
     "text": [
      "2\n"
     ]
    }
   ],
   "source": [
    "nested_list = [[1, 2], [3, 4]]\n",
    "print(nested_list[0][1])  # Accessing second element of the first list"
   ]
  },
  {
   "cell_type": "markdown",
   "id": "aa42c3b3-8def-402b-82a7-5cf65dc9d2c7",
   "metadata": {},
   "source": [
    "### 60. Nested List Flattening: Write a Python program to flatten a nested list and convert it into a single-dimensional list."
   ]
  },
  {
   "cell_type": "code",
   "execution_count": 59,
   "id": "e02cad38-d29a-4699-b288-ebb011f1ff55",
   "metadata": {},
   "outputs": [
    {
     "name": "stdout",
     "output_type": "stream",
     "text": [
      "[1, 2, 3, 4, 5, 6]\n"
     ]
    }
   ],
   "source": [
    "nested_list = [[1, 2], [3, 4], [5, 6]]\n",
    "flat_list = [item for sublist in nested_list for item in sublist]\n",
    "print(flat_list)"
   ]
  },
  {
   "cell_type": "markdown",
   "id": "68fee7bb-2a28-4f7e-831e-ffbbe404083a",
   "metadata": {},
   "source": [
    "### 61. Nested List Sorting: Given a nested list containing lists of integers, write a Python program to sort the sublists based on their lengths.\n"
   ]
  },
  {
   "cell_type": "code",
   "execution_count": 60,
   "id": "73969f77-6721-4faf-ae67-0134b68566f4",
   "metadata": {},
   "outputs": [
    {
     "name": "stdout",
     "output_type": "stream",
     "text": [
      "[[1], [1, 2], [1, 2, 3]]\n"
     ]
    }
   ],
   "source": [
    "def sort_sublists_by_length(nested_list):\n",
    "    return sorted(nested_list, key=len)\n",
    "\n",
    "nested_list = [[1, 2], [1, 2, 3], [1]]\n",
    "print(sort_sublists_by_length(nested_list))\n"
   ]
  },
  {
   "cell_type": "markdown",
   "id": "f8690f13-f19d-4dcb-a8ec-35aa12a1d542",
   "metadata": {},
   "source": [
    "### 62. List of Tuples Conversion: Given a nested list containing tuples of (x, y) coordinates, write a Python program to convert it into a list of x-coordinates and a list of y-coordinates.\n"
   ]
  },
  {
   "cell_type": "code",
   "execution_count": 61,
   "id": "055e110a-3989-4b82-9a26-194e1592967b",
   "metadata": {},
   "outputs": [
    {
     "name": "stdout",
     "output_type": "stream",
     "text": [
      "[1, 3, 5] [2, 4, 6]\n"
     ]
    }
   ],
   "source": [
    "def convert_to_coordinates(nested_list):\n",
    "    x_coords = [t[0] for t in nested_list]\n",
    "    y_coords = [t[1] for t in nested_list]\n",
    "    return x_coords, y_coords\n",
    "\n",
    "nested_list = [(1, 2), (3, 4), (5, 6)]\n",
    "x, y = convert_to_coordinates(nested_list)\n",
    "print(x, y)\n"
   ]
  },
  {
   "cell_type": "markdown",
   "id": "716bee41-3e14-4c6e-954b-3f11938faed6",
   "metadata": {},
   "source": [
    "### 63. Matrix Transpose: Write a Python program to transpose a given matrix represented as a nested list.\n"
   ]
  },
  {
   "cell_type": "code",
   "execution_count": 62,
   "id": "b0fb322d-27dd-43ad-9073-6cb54fddd87a",
   "metadata": {},
   "outputs": [
    {
     "name": "stdout",
     "output_type": "stream",
     "text": [
      "[[1, 4, 7], [2, 5, 8], [3, 6, 9]]\n"
     ]
    }
   ],
   "source": [
    "def transpose_matrix(matrix):\n",
    "    return [list(row) for row in zip(*matrix)]\n",
    "\n",
    "matrix = [[1, 2, 3], [4, 5, 6], [7, 8, 9]]\n",
    "print(transpose_matrix(matrix))\n"
   ]
  },
  {
   "cell_type": "markdown",
   "id": "3795ea7b-5e49-42bf-ac3d-17617ff4a733",
   "metadata": {},
   "source": [
    "### 64. Nested List Concatenation: Given a list of nested lists, write a Python program to concatenate all the sublists into a single flat list."
   ]
  },
  {
   "cell_type": "code",
   "execution_count": 63,
   "id": "f57e5388-7727-420d-b086-79b6d71fef5d",
   "metadata": {},
   "outputs": [
    {
     "name": "stdout",
     "output_type": "stream",
     "text": [
      "[1, 2, 3, 4, 5, 6]\n"
     ]
    }
   ],
   "source": [
    "def flatten_nested_list(nested_list):\n",
    "    return [item for sublist in nested_list for item in sublist]\n",
    "\n",
    "nested_list = [[1, 2], [3, 4], [5, 6]]\n",
    "print(flatten_nested_list(nested_list))\n"
   ]
  },
  {
   "cell_type": "markdown",
   "id": "35841315-03ac-459d-9718-b9c81a4c7817",
   "metadata": {},
   "source": [
    "### 65. Count Even Numbers: Write a Python program to count the number of even numbers in a nested list.\n"
   ]
  },
  {
   "cell_type": "code",
   "execution_count": 64,
   "id": "512565c3-a242-4fca-afc6-960bf52da3b9",
   "metadata": {},
   "outputs": [
    {
     "name": "stdout",
     "output_type": "stream",
     "text": [
      "4\n"
     ]
    }
   ],
   "source": [
    "def count_even_numbers(nested_list):\n",
    "    return sum(1 for sublist in nested_list for num in sublist if num % 2 == 0)\n",
    "\n",
    "nested_list = [[1, 2, 3], [4, 5, 6], [7, 8, 9]]\n",
    "print(count_even_numbers(nested_list))\n"
   ]
  },
  {
   "cell_type": "markdown",
   "id": "fa89d2db-f7a9-4075-b42e-f7016b585202",
   "metadata": {},
   "source": [
    "### 66. Maximum Element in Nested List: Write a Python program to find the maximum element in a nested list of integers.\n"
   ]
  },
  {
   "cell_type": "code",
   "execution_count": 65,
   "id": "66690373-97ea-46ae-ba36-9a7840c116fe",
   "metadata": {},
   "outputs": [
    {
     "name": "stdout",
     "output_type": "stream",
     "text": [
      "4\n"
     ]
    }
   ],
   "source": [
    "def count_even_numbers(nested_list):\n",
    "    return sum(1 for sublist in nested_list for num in sublist if num % 2 == 0)\n",
    "\n",
    "nested_list = [[1, 2, 3], [4, 5, 6], [7, 8, 9]]\n",
    "print(count_even_numbers(nested_list))\n"
   ]
  },
  {
   "cell_type": "markdown",
   "id": "63a71453-a9d0-4575-9003-733502639b3d",
   "metadata": {},
   "source": [
    "### 67. Diagonal Sum of Matrix: Given a square matrix represented as a nested list, write a Python program to calculate the sum of the elements in the main diagonal.\n"
   ]
  },
  {
   "cell_type": "code",
   "execution_count": 66,
   "id": "9239e592-07c6-42b9-93b5-0d85856d094d",
   "metadata": {},
   "outputs": [
    {
     "name": "stdout",
     "output_type": "stream",
     "text": [
      "15\n"
     ]
    }
   ],
   "source": [
    "def diagonal_sum(matrix):\n",
    "    return sum(matrix[i][i] for i in range(len(matrix)))\n",
    "\n",
    "matrix = [[1, 2, 3], [4, 5, 6], [7, 8, 9]]\n",
    "print(diagonal_sum(matrix))\n"
   ]
  },
  {
   "cell_type": "markdown",
   "id": "aeea1dc5-56b6-4252-86fb-0fff7caf4e0d",
   "metadata": {},
   "source": [
    "### 68. Nested List Element Search: Write a Python program to search for a specific element in a nested list and return its position (row and column indices).\n"
   ]
  },
  {
   "cell_type": "code",
   "execution_count": 67,
   "id": "49b46858-11de-4246-b0fe-3ea36b8b5a60",
   "metadata": {},
   "outputs": [
    {
     "name": "stdout",
     "output_type": "stream",
     "text": [
      "(1, 1)\n"
     ]
    }
   ],
   "source": [
    "def search_element(nested_list, target):\n",
    "    for i, sublist in enumerate(nested_list):\n",
    "        for j, element in enumerate(sublist):\n",
    "            if element == target:\n",
    "                return i, j\n",
    "    return None\n",
    "\n",
    "nested_list = [[1, 2], [3, 4], [5, 6]]\n",
    "print(search_element(nested_list, 4))\n"
   ]
  },
  {
   "cell_type": "markdown",
   "id": "116e26f3-7d78-4cfb-9f89-b2261a295759",
   "metadata": {},
   "source": [
    "## Set Problems:\n",
    "### 69. Duplicate Removal: Write a Python program that takes a list of elements as input and creates a new set containing only the unique elements from the list.\n"
   ]
  },
  {
   "cell_type": "code",
   "execution_count": 68,
   "id": "49acecaa-8508-41db-b00f-f968c9e7aacb",
   "metadata": {},
   "outputs": [
    {
     "name": "stdout",
     "output_type": "stream",
     "text": [
      "[1, 2, 3, 4]\n"
     ]
    }
   ],
   "source": [
    "def remove_duplicates(input_list):\n",
    "    return list(set(input_list))\n",
    "\n",
    "input_list = [1, 2, 2, 3, 4, 4]\n",
    "print(remove_duplicates(input_list))\n"
   ]
  },
  {
   "cell_type": "markdown",
   "id": "97d5509a-0c8a-4523-a1d1-da8d16a24644",
   "metadata": {},
   "source": [
    "### 70. Set Intersection: Given two sets A and B, write a Python program to find their intersection and print the common elements.\n"
   ]
  },
  {
   "cell_type": "code",
   "execution_count": 69,
   "id": "50780267-b191-4449-833f-24823583859a",
   "metadata": {},
   "outputs": [
    {
     "name": "stdout",
     "output_type": "stream",
     "text": [
      "{3}\n"
     ]
    }
   ],
   "source": [
    "def set_intersection(set_a, set_b):\n",
    "    return set_a & set_b\n",
    "\n",
    "set_a = {1, 2, 3}\n",
    "set_b = {3, 4, 5}\n",
    "print(set_intersection(set_a, set_b))\n"
   ]
  },
  {
   "cell_type": "markdown",
   "id": "99794865-4788-4645-a452-639d3e7a9c09",
   "metadata": {},
   "source": [
    "### 71. Set Union: Given two sets A and B, write a Python program to find their union and print all the distinct elements from both sets."
   ]
  },
  {
   "cell_type": "code",
   "execution_count": 70,
   "id": "b94bb496-4a13-4e16-acab-d50f2939b84c",
   "metadata": {},
   "outputs": [
    {
     "name": "stdout",
     "output_type": "stream",
     "text": [
      "{1, 2, 3, 4, 5}\n"
     ]
    }
   ],
   "source": [
    "def set_union(set_a, set_b):\n",
    "    return set_a | set_b\n",
    "\n",
    "set_a = {1, 2, 3}\n",
    "set_b = {3, 4, 5}\n",
    "print(set_union(set_a, set_b))\n"
   ]
  },
  {
   "cell_type": "markdown",
   "id": "dd216bf9-9a9c-4df3-bb09-20835ce41234",
   "metadata": {},
   "source": [
    "### 72. Set Difference: Given two sets A and B, write a Python program to find the difference between set A and set B (i.e., elements present in A but not in B) and print the result.\n"
   ]
  },
  {
   "cell_type": "code",
   "execution_count": 71,
   "id": "26ffecf0-749a-4bbc-94a7-18093fb45317",
   "metadata": {},
   "outputs": [
    {
     "name": "stdout",
     "output_type": "stream",
     "text": [
      "{1, 2}\n"
     ]
    }
   ],
   "source": [
    "def set_difference(set_a, set_b):\n",
    "    return set_a - set_b\n",
    "\n",
    "set_a = {1, 2, 3}\n",
    "set_b = {3, 4, 5}\n",
    "print(set_difference(set_a, set_b))\n"
   ]
  },
  {
   "cell_type": "markdown",
   "id": "d45be803-50e8-46c5-bdac-d9b8f6e055f9",
   "metadata": {},
   "source": [
    "### 73. Set Symmetric Difference: Given two sets A and B, write a Python program to find the symmetric difference between the two sets (i.e., elements that are present in either set A or set B, but not in both) and print the result.\n"
   ]
  },
  {
   "cell_type": "code",
   "execution_count": 72,
   "id": "0451e63b-d63f-4cdc-b6bb-c29b3b5e3b33",
   "metadata": {},
   "outputs": [
    {
     "name": "stdout",
     "output_type": "stream",
     "text": [
      "{1, 2, 4, 5}\n"
     ]
    }
   ],
   "source": [
    "def set_symmetric_difference(set_a, set_b):\n",
    "    return set_a ^ set_b\n",
    "\n",
    "set_a = {1, 2, 3}\n",
    "set_b = {3, 4, 5}\n",
    "print(set_symmetric_difference(set_a, set_b))\n"
   ]
  },
  {
   "cell_type": "markdown",
   "id": "93b94b78-f9ee-4c12-bc97-b048d7d358df",
   "metadata": {},
   "source": [
    "### 74. Set Operations: Given three sets A, B, and C, write a Python program to find and print the intersection of A and B, the union of B and C, and the difference between C and A.\n"
   ]
  },
  {
   "cell_type": "code",
   "execution_count": 73,
   "id": "40a1c53d-cfc5-4a5b-9aa6-71579991549b",
   "metadata": {},
   "outputs": [
    {
     "name": "stdout",
     "output_type": "stream",
     "text": [
      "({3}, {3, 4, 5, 6, 7}, {5, 6, 7})\n"
     ]
    }
   ],
   "source": [
    "def set_operations(set_a, set_b, set_c):\n",
    "    return set_a & set_b, set_b | set_c, set_c - set_a\n",
    "\n",
    "set_a = {1, 2, 3}\n",
    "set_b = {3, 4, 5}\n",
    "set_c = {5, 6, 7}\n",
    "print(set_operations(set_a, set_b, set_c))\n"
   ]
  },
  {
   "cell_type": "markdown",
   "id": "f252e5ce-9bf5-451c-a6a5-f34d7b8429fe",
   "metadata": {},
   "source": [
    "### 75. Set Subset Check: Given two sets A and B, write a Python program to check if set A is a subset of set B and print the result.\n"
   ]
  },
  {
   "cell_type": "code",
   "execution_count": 74,
   "id": "ab315706-d532-4004-8d56-08634a78ad84",
   "metadata": {},
   "outputs": [
    {
     "name": "stdout",
     "output_type": "stream",
     "text": [
      "True\n"
     ]
    }
   ],
   "source": [
    "def is_subset(set_a, set_b):\n",
    "    return set_a <= set_b\n",
    "\n",
    "set_a = {1, 2}\n",
    "set_b = {1, 2, 3}\n",
    "print(is_subset(set_a, set_b))\n"
   ]
  },
  {
   "cell_type": "markdown",
   "id": "bc824fdd-ec69-4fcc-8a61-8dc611f82cdb",
   "metadata": {},
   "source": [
    "### 76. Set Superset Check: Given two sets A and B, write a Python program to check if set A is a superset of set B and print the result.\n"
   ]
  },
  {
   "cell_type": "code",
   "execution_count": 75,
   "id": "50382e68-657d-4df4-aa98-853e2fd75c8c",
   "metadata": {},
   "outputs": [
    {
     "name": "stdout",
     "output_type": "stream",
     "text": [
      "True\n"
     ]
    }
   ],
   "source": [
    "def is_superset(set_a, set_b):\n",
    "    return set_a >= set_b\n",
    "\n",
    "set_a = {1, 2, 3}\n",
    "set_b = {1, 2}\n",
    "print(is_superset(set_a, set_b))\n"
   ]
  },
  {
   "cell_type": "markdown",
   "id": "80d7b903-ee2d-439e-876d-f1bfb560d121",
   "metadata": {},
   "source": [
    "### 77. Set Length Check: Write a Python program that takes a set as input and prints the number of elements in the set.\n"
   ]
  },
  {
   "cell_type": "code",
   "execution_count": 76,
   "id": "72e03633-0504-4987-8465-8b4775f1cdbe",
   "metadata": {},
   "outputs": [
    {
     "name": "stdout",
     "output_type": "stream",
     "text": [
      "3\n"
     ]
    }
   ],
   "source": [
    "def set_length(input_set):\n",
    "    return len(input_set)\n",
    "\n",
    "input_set = {1, 2, 3}\n",
    "print(set_length(input_set))\n"
   ]
  },
  {
   "cell_type": "markdown",
   "id": "2299441e-1ce9-489d-a4c2-8f7dd29c2e38",
   "metadata": {},
   "source": [
    "### 76. Set Membership Test: Write a Python program that takes an element as input and checks if it exists in a given set. Print “Found” if the element is present and “Not Found” otherwise.\n"
   ]
  },
  {
   "cell_type": "code",
   "execution_count": 77,
   "id": "ef5c502e-c863-4eff-af0e-23fa08565678",
   "metadata": {},
   "outputs": [
    {
     "name": "stdout",
     "output_type": "stream",
     "text": [
      "Found\n"
     ]
    }
   ],
   "source": [
    "def membership_test(input_set, element):\n",
    "    return \"Found\" if element in input_set else \"Not Found\"\n",
    "\n",
    "input_set = {1, 2, 3}\n",
    "print(membership_test(input_set, 2))\n"
   ]
  },
  {
   "cell_type": "markdown",
   "id": "edbe33e8-ac56-42f3-b659-d74ae076b300",
   "metadata": {},
   "source": [
    "## Dictionary Problems:\n",
    "#77. Dictionary Manipulation: Given a dictionary with student names as keys and their corresponding scores as values, write a Python program to add a new student to the dictionary and update the score of an existing student.\n"
   ]
  },
  {
   "cell_type": "code",
   "execution_count": 78,
   "id": "fcd4b2bd-4d91-4683-b8e6-859fe2dd8f58",
   "metadata": {},
   "outputs": [
    {
     "name": "stdout",
     "output_type": "stream",
     "text": [
      "{'Alice': 92, 'Bob': 90, 'Charlie': 88}\n"
     ]
    }
   ],
   "source": [
    "def manipulate_dict(student_dict, new_student, new_score, existing_student, updated_score):\n",
    "    student_dict[new_student] = new_score\n",
    "    student_dict[existing_student] = updated_score\n",
    "    return student_dict\n",
    "\n",
    "student_dict = {\"Alice\": 85, \"Bob\": 90}\n",
    "print(manipulate_dict(student_dict, \"Charlie\", 88, \"Alice\", 92))\n"
   ]
  },
  {
   "cell_type": "markdown",
   "id": "804dc8af-8d6a-4d47-9d96-161d9d65459a",
   "metadata": {},
   "source": [
    "### 78. Dictionary Keys and Values: Write a Python program that takes a dictionary as input and prints all the keys and values in separate lines.\n"
   ]
  },
  {
   "cell_type": "code",
   "execution_count": 79,
   "id": "9ee2ab41-2802-426c-a46a-d250ef84a386",
   "metadata": {},
   "outputs": [
    {
     "name": "stdout",
     "output_type": "stream",
     "text": [
      "Key: Alice, Value: 85\n",
      "Key: Bob, Value: 90\n"
     ]
    }
   ],
   "source": [
    "def print_keys_values(input_dict):\n",
    "    for key, value in input_dict.items():\n",
    "        print(f\"Key: {key}, Value: {value}\")\n",
    "\n",
    "input_dict = {\"Alice\": 85, \"Bob\": 90}\n",
    "print_keys_values(input_dict)\n"
   ]
  },
  {
   "cell_type": "markdown",
   "id": "3b991dc2-6456-48a4-b2e5-115319eac481",
   "metadata": {},
   "source": [
    "### 79. Dictionary Length: Write a Python program to calculate and print the number of key-value pairs in a given dictionary.\n"
   ]
  },
  {
   "cell_type": "code",
   "execution_count": 80,
   "id": "ebd91190-cbee-4c77-9be4-a6b5ee5d685b",
   "metadata": {},
   "outputs": [
    {
     "name": "stdout",
     "output_type": "stream",
     "text": [
      "2\n"
     ]
    }
   ],
   "source": [
    "def dict_length(input_dict):\n",
    "    return len(input_dict)\n",
    "\n",
    "input_dict = {\"Alice\": 85, \"Bob\": 90}\n",
    "print(dict_length(input_dict))\n"
   ]
  },
  {
   "cell_type": "markdown",
   "id": "c0f73f73-8156-4751-8454-9ad9a459859e",
   "metadata": {},
   "source": [
    "### 80. Dictionary Value Search: Given a dictionary of items and their prices, write a Python program to search for an item based on its price and print the item’s name.\n"
   ]
  },
  {
   "cell_type": "code",
   "execution_count": 81,
   "id": "98e2082e-c091-4e76-9226-fdd7cd3e71a5",
   "metadata": {},
   "outputs": [
    {
     "name": "stdout",
     "output_type": "stream",
     "text": [
      "banana\n"
     ]
    }
   ],
   "source": [
    "def search_item_by_price(price_dict, price):\n",
    "    for item, item_price in price_dict.items():\n",
    "        if item_price == price:\n",
    "            return item\n",
    "    return None\n",
    "\n",
    "price_dict = {\"apple\": 1, \"banana\": 2, \"cherry\": 3}\n",
    "print(search_item_by_price(price_dict, 2))\n"
   ]
  },
  {
   "cell_type": "markdown",
   "id": "f97c2f24-db84-404f-8624-4cf3d2f69b8f",
   "metadata": {},
   "source": [
    "### 81. Dictionary Merging: Given two dictionaries, write a Python program to merge them into a single dictionary and print the result.\n"
   ]
  },
  {
   "cell_type": "code",
   "execution_count": 82,
   "id": "cefba4c2-77e2-4e16-b62f-fd84e47e4a1d",
   "metadata": {},
   "outputs": [
    {
     "name": "stdout",
     "output_type": "stream",
     "text": [
      "{'Alice': 85, 'Bob': 90}\n"
     ]
    }
   ],
   "source": [
    "def merge_dicts(dict_a, dict_b):\n",
    "    dict_a.update(dict_b)\n",
    "    return dict_a\n",
    "\n",
    "dict_a = {\"Alice\": 85}\n",
    "dict_b = {\"Bob\": 90}\n",
    "print(merge_dicts(dict_a, dict_b))\n"
   ]
  },
  {
   "cell_type": "markdown",
   "id": "c742d61f-29f8-4135-a4f0-f228e1ac3244",
   "metadata": {},
   "source": [
    "### 82. Dictionary Key Removal: Given a dictionary of items and their quantities, write a Python program to remove a specific item from the dictionary based on user input.\n"
   ]
  },
  {
   "cell_type": "code",
   "execution_count": 83,
   "id": "1a09ee20-6252-40b3-b84f-ccac648d5257",
   "metadata": {},
   "outputs": [
    {
     "name": "stdout",
     "output_type": "stream",
     "text": [
      "{'banana': 2}\n"
     ]
    }
   ],
   "source": [
    "def remove_item(input_dict, item):\n",
    "    if item in input_dict:\n",
    "        del input_dict[item]\n",
    "    return input_dict\n",
    "\n",
    "input_dict = {\"apple\": 1, \"banana\": 2}\n",
    "print(remove_item(input_dict, \"apple\"))\n"
   ]
  },
  {
   "cell_type": "markdown",
   "id": "fbcfdb25-5904-44e2-8a35-daae5cf25e63",
   "metadata": {},
   "source": [
    "### 83. Dictionary Sorting: Given a dictionary with names as keys and corresponding ages as values, write a Python program to sort the dictionary based on age in ascending order.\n"
   ]
  },
  {
   "cell_type": "code",
   "execution_count": 84,
   "id": "0cf17efe-d3d2-4e4a-88a6-8df8dbcc095e",
   "metadata": {},
   "outputs": [
    {
     "name": "stdout",
     "output_type": "stream",
     "text": [
      "{'Bob': 20, 'Alice': 25}\n"
     ]
    }
   ],
   "source": [
    "def sort_dict_by_age(input_dict):\n",
    "    return dict(sorted(input_dict.items(), key=lambda x: x[1]))\n",
    "\n",
    "input_dict = {\"Alice\": 25, \"Bob\": 20}\n",
    "print(sort_dict_by_age(input_dict))\n"
   ]
  },
  {
   "cell_type": "markdown",
   "id": "09009e7d-e405-4af0-9c6a-9f38cb50ff83",
   "metadata": {},
   "source": [
    "### 84. Dictionary Frequency Count: Write a Python program that takes a string as input and creates a dictionary containing each character as a key and its frequency as the value.\n"
   ]
  },
  {
   "cell_type": "code",
   "execution_count": 85,
   "id": "37824896-24cb-4a39-bbe5-42c3fb0edf80",
   "metadata": {},
   "outputs": [
    {
     "name": "stdout",
     "output_type": "stream",
     "text": [
      "{'n': 2, 'a': 3, 'b': 1}\n"
     ]
    }
   ],
   "source": [
    "def count_char_frequency(input_string):\n",
    "    return {char: input_string.count(char) for char in set(input_string)}\n",
    "\n",
    "input_string = \"banana\"\n",
    "print(count_char_frequency(input_string))\n"
   ]
  },
  {
   "cell_type": "markdown",
   "id": "3d259d91-b7d2-4dda-919b-a536c1ab597b",
   "metadata": {},
   "source": [
    "\n",
    "### 85. Dictionary Comprehension: Given a list of integers, write a Python program to create a dictionary where the keys are the elements from the list, and the values are their squares."
   ]
  },
  {
   "cell_type": "code",
   "execution_count": 86,
   "id": "3bbedbd4-660d-40dd-b502-1f15e78db54e",
   "metadata": {},
   "outputs": [
    {
     "name": "stdout",
     "output_type": "stream",
     "text": [
      "{1: 1, 2: 4, 3: 9, 4: 16}\n"
     ]
    }
   ],
   "source": [
    "def create_square_dict(input_list):\n",
    "    return {x: x**2 for x in input_list}\n",
    "\n",
    "input_list = [1, 2, 3, 4]\n",
    "print(create_square_dict(input_list))\n"
   ]
  },
  {
   "cell_type": "markdown",
   "id": "613438d3-c3d6-4b36-a8ca-db5c74c08651",
   "metadata": {},
   "source": [
    "### 86. Dictionary Key Check: Write a Python program that takes a key as input and checks if it exists in a given dictionary. Print “Key Found” if the key is present and “Key Not Found” otherwise.\n"
   ]
  },
  {
   "cell_type": "code",
   "execution_count": 87,
   "id": "c1c1a108-2a58-4ab1-a632-ac58d28bcb0a",
   "metadata": {},
   "outputs": [
    {
     "name": "stdout",
     "output_type": "stream",
     "text": [
      "Key Found\n",
      "Key Not Found\n"
     ]
    }
   ],
   "source": [
    "def check_key(input_dict, key):\n",
    "    if key in input_dict:\n",
    "        return \"Key Found\"\n",
    "    else:\n",
    "        return \"Key Not Found\"\n",
    "\n",
    "input_dict = {\"Alice\": 85, \"Bob\": 90}\n",
    "print(check_key(input_dict, \"Alice\"))\n",
    "print(check_key(input_dict, \"Charlie\"))\n"
   ]
  },
  {
   "cell_type": "markdown",
   "id": "bace81b1-6b52-47bc-a87b-ec7980e82dd6",
   "metadata": {},
   "source": [
    "## Nested Dictionary Problems:\n",
    "### 87. Access Nested Dictionary: Given a nested dictionary containing student details, write a Python program to access and print specific information such as a student’s name, age, and address.\n"
   ]
  },
  {
   "cell_type": "code",
   "execution_count": 88,
   "id": "5e9ff57f-979d-46c9-ae61-385ea8801901",
   "metadata": {},
   "outputs": [
    {
     "name": "stdout",
     "output_type": "stream",
     "text": [
      "Name: John Doe, Age: 20, Address: 123 Main St\n"
     ]
    }
   ],
   "source": [
    "def access_nested_dict(student_dict):\n",
    "    name = student_dict.get('name')\n",
    "    age = student_dict.get('age')\n",
    "    address = student_dict.get('address')\n",
    "    return name, age, address\n",
    "\n",
    "student_dict = {\n",
    "    'name': 'John Doe',\n",
    "    'age': 20,\n",
    "    'address': '123 Main St'\n",
    "}\n",
    "name, age, address = access_nested_dict(student_dict)\n",
    "print(f\"Name: {name}, Age: {age}, Address: {address}\")\n"
   ]
  },
  {
   "cell_type": "markdown",
   "id": "7b40cf4c-f151-4831-90c9-0950497de15c",
   "metadata": {},
   "source": [
    "### 88. Nested Dictionary Length: Write a Python program to calculate and print the total number of key-value pairs in a nested dictionary.\n"
   ]
  },
  {
   "cell_type": "code",
   "execution_count": 89,
   "id": "dc55b8f9-09e6-46b6-99da-dd64c0c315b7",
   "metadata": {},
   "outputs": [
    {
     "name": "stdout",
     "output_type": "stream",
     "text": [
      "6\n"
     ]
    }
   ],
   "source": [
    "def nested_dict_length(nested_dict):\n",
    "    return sum(len(v) if isinstance(v, dict) else 1 for v in nested_dict.values()) + len(nested_dict)\n",
    "\n",
    "nested_dict = {\n",
    "    'student1': {'name': 'Alice', 'age': 21},\n",
    "    'student2': {'name': 'Bob', 'age': 22}\n",
    "}\n",
    "print(nested_dict_length(nested_dict))\n"
   ]
  },
  {
   "cell_type": "markdown",
   "id": "42ac1e5c-2069-45a1-825a-c654ec22b085",
   "metadata": {},
   "source": [
    "### 89. Nested Dictionary Update: Given a nested dictionary of employee details, write a Python program to update an employee’s salary based on their employee ID.\n"
   ]
  },
  {
   "cell_type": "code",
   "execution_count": 90,
   "id": "6b385fc1-fe87-44eb-b0d9-d6c81f40528d",
   "metadata": {},
   "outputs": [
    {
     "name": "stdout",
     "output_type": "stream",
     "text": [
      "{101: {'name': 'Alice', 'salary': 55000}, 102: {'name': 'Bob', 'salary': 60000}}\n"
     ]
    }
   ],
   "source": [
    "def update_salary(employee_dict, employee_id, new_salary):\n",
    "    if employee_id in employee_dict:\n",
    "        employee_dict[employee_id]['salary'] = new_salary\n",
    "    return employee_dict\n",
    "\n",
    "employee_dict = {\n",
    "    101: {'name': 'Alice', 'salary': 50000},\n",
    "    102: {'name': 'Bob', 'salary': 60000}\n",
    "}\n",
    "print(update_salary(employee_dict, 101, 55000))\n"
   ]
  },
  {
   "cell_type": "markdown",
   "id": "14ec80d0-cc9c-4426-abf8-b75cc56861e4",
   "metadata": {},
   "source": [
    "### 90. Nested Dictionary Sorting: Given a nested dictionary containing product details (product name, price, and quantity), write a Python program to sort the products based on their prices in ascending order.\n"
   ]
  },
  {
   "cell_type": "code",
   "execution_count": 91,
   "id": "4cb82857-0faf-4391-ac0b-5246319adb43",
   "metadata": {},
   "outputs": [
    {
     "name": "stdout",
     "output_type": "stream",
     "text": [
      "{'product2': {'price': 20, 'quantity': 5}, 'product3': {'price': 25, 'quantity': 7}, 'product1': {'price': 30, 'quantity': 10}}\n"
     ]
    }
   ],
   "source": [
    "def sort_products_by_price(products_dict):\n",
    "    return {k: v for k, v in sorted(products_dict.items(), key=lambda item: item[1]['price'])}\n",
    "\n",
    "products_dict = {\n",
    "    'product1': {'price': 30, 'quantity': 10},\n",
    "    'product2': {'price': 20, 'quantity': 5},\n",
    "    'product3': {'price': 25, 'quantity': 7}\n",
    "}\n",
    "print(sort_products_by_price(products_dict))\n"
   ]
  },
  {
   "cell_type": "markdown",
   "id": "acf2d4f4-b5c0-4d87-ab39-b5c10046b91f",
   "metadata": {},
   "source": [
    "### 91. Nested Dictionary Key Search: Write a Python program that takes a key as input and searches for it in a nested dictionary. If found, print the corresponding value, otherwise, print “Key Not Found.”"
   ]
  },
  {
   "cell_type": "code",
   "execution_count": 92,
   "id": "b0e6ec53-c9f3-4ff3-96e4-7585fa1378ab",
   "metadata": {},
   "outputs": [
    {
     "name": "stdout",
     "output_type": "stream",
     "text": [
      "Alice\n",
      "Key Not Found\n"
     ]
    }
   ],
   "source": [
    "def search_key_in_nested_dict(nested_dict, key):\n",
    "    for sub_key, sub_value in nested_dict.items():\n",
    "        if isinstance(sub_value, dict) and key in sub_value:\n",
    "            return sub_value[key]\n",
    "    return \"Key Not Found\"\n",
    "\n",
    "nested_dict = {\n",
    "    'student1': {'name': 'Alice', 'age': 21},\n",
    "    'student2': {'name': 'Bob', 'age': 22}\n",
    "}\n",
    "print(search_key_in_nested_dict(nested_dict, 'name'))\n",
    "print(search_key_in_nested_dict(nested_dict, 'address'))\n"
   ]
  },
  {
   "cell_type": "markdown",
   "id": "eaf5255e-ab3f-4805-b10a-81b4fe93a09e",
   "metadata": {},
   "source": [
    "## Break & Continue: \n",
    "### 92. Prime Number Checker: Write a Python program that takes a number as input and determines if it is a prime number or not. Use a `for` loop to check for factors. If a factor is found, `break` out of the loop.\n"
   ]
  },
  {
   "cell_type": "code",
   "execution_count": 94,
   "id": "590c2ed2-a423-4a72-b23d-78648c450b20",
   "metadata": {},
   "outputs": [
    {
     "name": "stdin",
     "output_type": "stream",
     "text": [
      "Enter a number:  4\n"
     ]
    },
    {
     "name": "stdout",
     "output_type": "stream",
     "text": [
      "4 is not a prime number.\n"
     ]
    }
   ],
   "source": [
    "def is_prime(n):\n",
    "    if n < 2:\n",
    "        return False\n",
    "    for i in range(2, n):\n",
    "        if n % i == 0:\n",
    "            break\n",
    "    else:\n",
    "        return True\n",
    "    return False\n",
    "\n",
    "number = int(input(\"Enter a number: \"))\n",
    "if is_prime(number):\n",
    "    print(f\"{number} is a prime number.\")\n",
    "else:\n",
    "    print(f\"{number} is not a prime number.\")\n"
   ]
  },
  {
   "cell_type": "markdown",
   "id": "2475b3e6-c7cb-4ff2-8383-b4b5d7bf37d4",
   "metadata": {},
   "source": [
    "### 93. Even Number Printer: Write a Python program to print all even numbers from 1 to 20. Use a `for` loop and `continue` to skip odd numbers.\n"
   ]
  },
  {
   "cell_type": "code",
   "execution_count": 95,
   "id": "04d43faf-357a-4bd6-a10d-ee517175957c",
   "metadata": {},
   "outputs": [
    {
     "name": "stdout",
     "output_type": "stream",
     "text": [
      "2\n",
      "4\n",
      "6\n",
      "8\n",
      "10\n",
      "12\n",
      "14\n",
      "16\n",
      "18\n",
      "20\n"
     ]
    }
   ],
   "source": [
    "for num in range(1, 21):\n",
    "    if num % 2 != 0:\n",
    "        continue\n",
    "    print(num)\n",
    "\n"
   ]
  },
  {
   "cell_type": "markdown",
   "id": "d07715c1-23cd-4b8e-a255-c28d31d09d91",
   "metadata": {},
   "source": [
    "##|## 94. Password Validator: Write a Python program that takes a password as input and checks if it meets the following criteria: at least 8 characters long, contains both uppercase and lowercase letters, and has at least one digit. If the password is valid, print “Password accepted.” If not, use `continue` to prompt the user to enter a valid password.\n"
   ]
  },
  {
   "cell_type": "code",
   "execution_count": 96,
   "id": "dfb8efb5-26ab-4f2a-9982-da9921671351",
   "metadata": {},
   "outputs": [
    {
     "name": "stdin",
     "output_type": "stream",
     "text": [
      "Enter a password:  KAWAES\n"
     ]
    },
    {
     "name": "stdout",
     "output_type": "stream",
     "text": [
      "Invalid password. Try again.\n"
     ]
    },
    {
     "name": "stdin",
     "output_type": "stream",
     "text": [
      "Enter a password:  RESE3\n"
     ]
    },
    {
     "name": "stdout",
     "output_type": "stream",
     "text": [
      "Invalid password. Try again.\n"
     ]
    },
    {
     "name": "stdin",
     "output_type": "stream",
     "text": [
      "Enter a password:  REWEW\n"
     ]
    },
    {
     "name": "stdout",
     "output_type": "stream",
     "text": [
      "Invalid password. Try again.\n"
     ]
    },
    {
     "name": "stdin",
     "output_type": "stream",
     "text": [
      "Enter a password:  FDFDFDRERRRRRR\n"
     ]
    },
    {
     "name": "stdout",
     "output_type": "stream",
     "text": [
      "Invalid password. Try again.\n"
     ]
    },
    {
     "name": "stdin",
     "output_type": "stream",
     "text": [
      "Enter a password:  AMI(_II888*)_=_\n"
     ]
    },
    {
     "name": "stdout",
     "output_type": "stream",
     "text": [
      "Invalid password. Try again.\n"
     ]
    },
    {
     "name": "stdin",
     "output_type": "stream",
     "text": [
      "Enter a password:  amioAmi0\n"
     ]
    },
    {
     "name": "stdout",
     "output_type": "stream",
     "text": [
      "Password accepted\n"
     ]
    }
   ],
   "source": [
    "import re\n",
    "\n",
    "def validate_password(password):\n",
    "    if len(password) >= 8 and re.search(\"[a-z]\", password) and re.search(\"[A-Z]\", password) and re.search(\"[0-9]\", password):\n",
    "        return \"Password accepted\"\n",
    "    return \"Invalid password. Please try again.\"\n",
    "\n",
    "while True:\n",
    "    password = input(\"Enter a password: \")\n",
    "    if validate_password(password) == \"Password accepted\":\n",
    "        print(\"Password accepted\")\n",
    "        break\n",
    "    else:\n",
    "        print(\"Invalid password. Try again.\")"
   ]
  },
  {
   "cell_type": "markdown",
   "id": "b28baf2c-f5ee-48a1-a7de-384bb7e79b51",
   "metadata": {},
   "source": [
    "#### 95. Divisible by 3 or 5: Write a Python program to print all numbers from 1 to 50 that are divisible by either 3 or 5. Use a `for` loop and `continue` to skip numbers that are not divisible by either 3 or 5.\n"
   ]
  },
  {
   "cell_type": "code",
   "execution_count": 97,
   "id": "c53280cb-a72c-49f2-8edc-b65fc6f7abf1",
   "metadata": {},
   "outputs": [
    {
     "name": "stdout",
     "output_type": "stream",
     "text": [
      "3\n",
      "5\n",
      "6\n",
      "9\n",
      "10\n",
      "12\n",
      "15\n",
      "18\n",
      "20\n",
      "21\n",
      "24\n",
      "25\n",
      "27\n",
      "30\n",
      "33\n",
      "35\n",
      "36\n",
      "39\n",
      "40\n",
      "42\n",
      "45\n",
      "48\n",
      "50\n"
     ]
    }
   ],
   "source": [
    "for num in range(1, 51):\n",
    "    if num % 3 != 0 and num % 5 != 0:\n",
    "        continue\n",
    "    print(num)\n"
   ]
  },
  {
   "cell_type": "markdown",
   "id": "07ee80fb-bdb9-4be0-b2f0-64a6724c516e",
   "metadata": {},
   "source": [
    "#### 96. Positive Number Sum: Write a Python program that takes positive numbers as input until a negative number is entered. Then, calculate and print the sum of all positive numbers entered. Use a `while` loop and `break` to exit the loop when a negative number is encountered.\n"
   ]
  },
  {
   "cell_type": "code",
   "execution_count": 98,
   "id": "a78725c5-721f-4097-bada-b09632252a95",
   "metadata": {},
   "outputs": [
    {
     "name": "stdin",
     "output_type": "stream",
     "text": [
      "Enter a positive number (or a negative number to stop):  2\n",
      "Enter a positive number (or a negative number to stop):  -2\n"
     ]
    },
    {
     "name": "stdout",
     "output_type": "stream",
     "text": [
      "The sum of all positive numbers is: 2\n"
     ]
    }
   ],
   "source": [
    "total = 0\n",
    "while True:\n",
    "    num = int(input(\"Enter a positive number (or a negative number to stop): \"))\n",
    "    if num < 0:\n",
    "        break\n",
    "    total += num\n",
    "print(f\"The sum of all positive numbers is: {total}\")\n"
   ]
  },
  {
   "cell_type": "markdown",
   "id": "994feb9f-2db3-49f0-a630-79db1234a17e",
   "metadata": {},
   "source": [
    "#### 97. Word Palindrome Checker: Write a Python program that takes a word as input and checks if it is a palindrome (reads the same forwards and backward). Use `continue` to skip checking the word if its length is less than 3 characters.\n"
   ]
  },
  {
   "cell_type": "code",
   "execution_count": 99,
   "id": "1e86e00b-d1fb-4e6c-937b-1dc1cffdb0f7",
   "metadata": {},
   "outputs": [
    {
     "name": "stdin",
     "output_type": "stream",
     "text": [
      "Enter a word:  amj\\\n"
     ]
    },
    {
     "name": "stdout",
     "output_type": "stream",
     "text": [
      "amj\\ is not a palindrome.\n"
     ]
    }
   ],
   "source": [
    "def is_palindrome(word):\n",
    "    return word == word[::-1]\n",
    "\n",
    "word = input(\"Enter a word: \")\n",
    "if len(word) < 3:\n",
    "    print(\"Word length must be at least 3 characters.\")\n",
    "else:\n",
    "    if is_palindrome(word):\n",
    "        print(f\"{word} is a palindrome.\")\n",
    "    else:\n",
    "        print(f\"{word} is not a palindrome.\")\n"
   ]
  },
  {
   "cell_type": "markdown",
   "id": "cf919702-5783-4b87-b398-7e0ac93560eb",
   "metadata": {},
   "source": [
    "### 98. Odd Number Finder: Write a Python program to find the first odd number from a list of integers. Use a `for` loop and `break` to stop the loop when the first odd number is found.\n"
   ]
  },
  {
   "cell_type": "code",
   "execution_count": 100,
   "id": "edd580d0-df82-4416-9cc5-bfb5c6bcc94d",
   "metadata": {},
   "outputs": [
    {
     "name": "stdout",
     "output_type": "stream",
     "text": [
      "The first odd number is: 7\n"
     ]
    }
   ],
   "source": [
    "def find_first_odd(numbers):\n",
    "    for num in numbers:\n",
    "        if num % 2 != 0:\n",
    "            print(f\"The first odd number is: {num}\")\n",
    "            break\n",
    "\n",
    "numbers = [2, 4, 6, 7, 8, 10]\n",
    "find_first_odd(numbers)\n"
   ]
  },
  {
   "cell_type": "markdown",
   "id": "b3f6fb2b-7124-4616-847a-171d8fbe31ac",
   "metadata": {},
   "source": [
    "#### 99. Number Guessing Game: Write a Python program that generates a random number between 1 and 100 and lets the user guess the number. Use a `while` loop, `break` when the correct number is guessed, and `continue` to keep prompting the user until they guess correctly.\n"
   ]
  },
  {
   "cell_type": "code",
   "execution_count": null,
   "id": "afc14fc1-2e09-4aee-b4d2-0bb9941253ab",
   "metadata": {},
   "outputs": [
    {
     "name": "stdin",
     "output_type": "stream",
     "text": [
      "Guess the number between 1 and 100:  88\n"
     ]
    },
    {
     "name": "stdout",
     "output_type": "stream",
     "text": [
      "Too high! Try again.\n"
     ]
    }
   ],
   "source": [
    "import random\n",
    "\n",
    "def number_guessing_game():\n",
    "    number_to_guess = random.randint(1, 100)\n",
    "    while True:\n",
    "        guess = int(input(\"Guess the number between 1 and 100: \"))\n",
    "        if guess < number_to_guess:\n",
    "            print(\"Too low! Try again.\")\n",
    "            continue\n",
    "        elif guess > number_to_guess:\n",
    "            print(\"Too high! Try again.\")\n",
    "            continue\n",
    "        else:\n",
    "            print(f\"Congratulations! {guess} is the correct number.\")\n",
    "            break\n",
    "\n",
    "number_guessing_game()\n"
   ]
  },
  {
   "cell_type": "markdown",
   "id": "83b21dbe-4bbc-4413-8bec-2b8001021cc6",
   "metadata": {},
   "source": [
    "#### 100. Vowel Counter: Write a Python program that takes a string as input and counts the number of vowels (a, e, i, o, u) in it. Use a `for` loop and `continue` to skip counting non-vowel characters.\n"
   ]
  },
  {
   "cell_type": "code",
   "execution_count": 102,
   "id": "5a24d007-052a-4f5d-ae2a-80f726f7751d",
   "metadata": {},
   "outputs": [
    {
     "name": "stdin",
     "output_type": "stream",
     "text": [
      "Enter a string:  a\n"
     ]
    },
    {
     "name": "stdout",
     "output_type": "stream",
     "text": [
      "Number of vowels: 1\n"
     ]
    }
   ],
   "source": [
    "def count_vowels(string):\n",
    "    vowels = 'aeiou'\n",
    "    count = 0\n",
    "    for char in string:\n",
    "        if char.lower() in vowels:\n",
    "            count += 1\n",
    "    return count\n",
    "\n",
    "input_string = input(\"Enter a string: \")\n",
    "print(f\"Number of vowels: {count_vowels(input_string)}\")\n"
   ]
  },
  {
   "cell_type": "markdown",
   "id": "37faa147-d1aa-4834-9376-6e0ed8b152ba",
   "metadata": {},
   "source": [
    "### 101. Unique Characters: Write a Python program that takes a string as input and checks if it contains all unique characters (no character repeats). Use a `for` loop and `break` when a character repeats."
   ]
  },
  {
   "cell_type": "code",
   "execution_count": 103,
   "id": "8a6789dc-52eb-4b38-9650-5d6a77b33be2",
   "metadata": {},
   "outputs": [
    {
     "name": "stdin",
     "output_type": "stream",
     "text": [
      "Enter a string:  ami\n"
     ]
    },
    {
     "name": "stdout",
     "output_type": "stream",
     "text": [
      "All characters are unique.\n"
     ]
    }
   ],
   "source": [
    "def has_unique_characters(string):\n",
    "    seen = set()\n",
    "    for char in string:\n",
    "        if char in seen:\n",
    "            return False\n",
    "        seen.add(char)\n",
    "    return True\n",
    "\n",
    "input_string = input(\"Enter a string: \")\n",
    "if has_unique_characters(input_string):\n",
    "    print(\"All characters are unique.\")\n",
    "else:\n",
    "    print(\"The string contains repeated characters.\")\n"
   ]
  },
  {
   "cell_type": "markdown",
   "id": "f518d935-d865-4888-9cf3-68089a8c6329",
   "metadata": {},
   "source": [
    "## Functions Problems:\n",
    "####102. Factorial Calculator: Write a Python function called `factorial` that takes an integer as input and returns its factorial. Test the function with different values.\n"
   ]
  },
  {
   "cell_type": "code",
   "execution_count": 104,
   "id": "2c741f51-5a38-4ebc-a1e2-311daf817b5e",
   "metadata": {},
   "outputs": [
    {
     "name": "stdin",
     "output_type": "stream",
     "text": [
      "Enter a number:  5\n"
     ]
    },
    {
     "name": "stdout",
     "output_type": "stream",
     "text": [
      "The factorial of 5 is: 120\n"
     ]
    }
   ],
   "source": [
    "def factorial(n):\n",
    "    if n == 0:\n",
    "        return 1\n",
    "    return n * factorial(n-1)\n",
    "\n",
    "number = int(input(\"Enter a number: \"))\n",
    "print(f\"The factorial of {number} is: {factorial(number)}\")\n"
   ]
  },
  {
   "cell_type": "markdown",
   "id": "a37d2067-26f1-4957-87cc-9c01a569b1bb",
   "metadata": {},
   "source": [
    "### 103. Palindrome Checker: Write a Python function called `is_palindrome` that takes a string as input and returns `True` if it is a palindrome and `False` otherwise. Test the function with different words."
   ]
  },
  {
   "cell_type": "code",
   "execution_count": 105,
   "id": "c482bdab-4c88-4671-8c7f-f9c0750c2845",
   "metadata": {},
   "outputs": [
    {
     "name": "stdin",
     "output_type": "stream",
     "text": [
      "Enter a word:  ami\\\n"
     ]
    },
    {
     "name": "stdout",
     "output_type": "stream",
     "text": [
      "ami\\ is not a palindrome.\n"
     ]
    }
   ],
   "source": [
    "def is_palindrome(word):\n",
    "    return word == word[::-1]\n",
    "\n",
    "word = input(\"Enter a word: \")\n",
    "if is_palindrome(word):\n",
    "    print(f\"{word} is a palindrome.\")\n",
    "else:\n",
    "    print(f\"{word} is not a palindrome.\")\n"
   ]
  },
  {
   "cell_type": "markdown",
   "id": "b8fb2646-4730-42b5-83db-3d0dc81e1704",
   "metadata": {},
   "source": [
    "#### 104. Even or Odd Checker: Write a Python function called `even_or_odd` that takes an integer as input and returns “Even” if the number is even and “Odd” if the number is odd. Test the function with different numbers.\n"
   ]
  },
  {
   "cell_type": "code",
   "execution_count": 106,
   "id": "f90ee478-a528-410d-a3ec-dfb41bdafb05",
   "metadata": {},
   "outputs": [
    {
     "name": "stdout",
     "output_type": "stream",
     "text": [
      "Even\n",
      "Odd\n"
     ]
    }
   ],
   "source": [
    "def even_or_odd(n):\n",
    "    if n % 2 == 0:\n",
    "        return \"Even\"\n",
    "    else:\n",
    "        return \"Odd\"\n",
    "\n",
    "print(even_or_odd(4))  \n",
    "print(even_or_odd(7))  \n"
   ]
  },
  {
   "cell_type": "markdown",
   "id": "244caa95-f93f-4558-a7af-c8126a6b99c4",
   "metadata": {},
   "source": [
    "#### 105. List Sum Calculator: Write a Python function called `list_sum` that takes a list of integers as input and returns the sum of all elements in the list. Test the function with different lists.\n"
   ]
  },
  {
   "cell_type": "code",
   "execution_count": 107,
   "id": "5cd9fc9a-997c-4b75-b9c1-0a2d7ed1a531",
   "metadata": {},
   "outputs": [
    {
     "name": "stdout",
     "output_type": "stream",
     "text": [
      "10\n",
      "30\n"
     ]
    }
   ],
   "source": [
    "def list_sum(lst):\n",
    "    return sum(lst)\n",
    "\n",
    "# Test cases\n",
    "print(list_sum([1, 2, 3, 4]))  \n",
    "print(list_sum([5, 10, 15]))  \n"
   ]
  },
  {
   "cell_type": "markdown",
   "id": "ed70993f-923c-4f98-a6fd-c381f10cf063",
   "metadata": {},
   "source": [
    "### 106. Greatest Common Divisor (GCD) Calculator: Write a Python function called `gcd` that takes two integers as input and returns their greatest common divisor. Test the function with different pairs of numbers.\n"
   ]
  },
  {
   "cell_type": "code",
   "execution_count": 108,
   "id": "626ae0bd-5ab2-4eba-8f8b-597ff8fc5b69",
   "metadata": {},
   "outputs": [
    {
     "name": "stdout",
     "output_type": "stream",
     "text": [
      "6\n",
      "1\n"
     ]
    }
   ],
   "source": [
    "import math\n",
    "\n",
    "def gcd(a, b):\n",
    "    return math.gcd(a, b)\n",
    "\n",
    "print(gcd(12, 18))  \n",
    "print(gcd(7, 13))  \n"
   ]
  },
  {
   "cell_type": "markdown",
   "id": "e17b60a5-29a9-493a-aba0-0d74f595389b",
   "metadata": {},
   "source": [
    "#### 107. Leap Year Checker: Write a Python function called `is_leap_year` that takes a year as input and returns `True` if it is a leap year and `False` otherwise. Test the function with different years.\n"
   ]
  },
  {
   "cell_type": "code",
   "execution_count": 109,
   "id": "51d711e8-a903-461c-a98d-daad71441695",
   "metadata": {},
   "outputs": [
    {
     "name": "stdout",
     "output_type": "stream",
     "text": [
      "True\n",
      "False\n"
     ]
    }
   ],
   "source": [
    "def is_leap_year(year):\n",
    "    if (year % 4 == 0 and year % 100 != 0) or (year % 400 == 0):\n",
    "        return True\n",
    "    else:\n",
    "        return False\n",
    "\n",
    "print(is_leap_year(2020)) \n",
    "print(is_leap_year(2021))  \n"
   ]
  },
  {
   "cell_type": "markdown",
   "id": "3aabe13b-b589-4bdf-a9db-6b8ae644ffc4",
   "metadata": {},
   "source": [
    "### Nested Functions Problems:\n",
    "#### 108. Math Operations: Write a Python function called `math_operations` that takes three numbers and a string representing an operation (‘add’, ‘subtract’, ‘multiply’, or ‘divide’). The function should return the result of the specified operation on the three numbers. Implement the math operations as nested functions.\n"
   ]
  },
  {
   "cell_type": "code",
   "execution_count": null,
   "id": "4841c83d-1f0b-4271-b30a-8b027c182418",
   "metadata": {},
   "outputs": [],
   "source": [
    "def math_operations(num1, num2, num3, operation):\n",
    "    def add(): return num1 + num2 + num3\n",
    "    def subtract(): return num1 - num2 - num3\n",
    "    def multiply(): return num1 * num2 * num3\n",
    "    def divide(): return num1 / num2 / num3 if num2 != 0 and num3 != 0 else \"Cannot divide by zero\"\n",
    "    \n",
    "    if operation == 'add':\n",
    "        return add()\n",
    "    elif operation == 'subtract':\n",
    "        return subtract()\n",
    "    elif operation == 'multiply':\n",
    "        return multiply()\n",
    "    elif operation == 'divide':\n",
    "        return divide()\n",
    "\n",
    "\n",
    "print(math_operations(5, 3, 2, 'add'))  \n",
    "print(math_operations(5, 3, 2, 'subtract'))  \n",
    "print(math_operations(5, 3, 2, 'multiply'))  \n",
    "print(math_operations(6, 2, 3, 'divide'))  \n"
   ]
  },
  {
   "cell_type": "markdown",
   "id": "608e052d-ba60-4336-9012-df521889b22f",
   "metadata": {},
   "source": [
    "### 109. Greeting Generator: Write a Python function called `greeting_generator` that takes a name as input and returns a greeting message using nested functions. The greeting message should be customizable (e.g., “Hello, {name}! How are you today?”).\n"
   ]
  },
  {
   "cell_type": "code",
   "execution_count": 110,
   "id": "8b5b239f-aa25-4155-b5ca-41edce183383",
   "metadata": {},
   "outputs": [
    {
     "name": "stdout",
     "output_type": "stream",
     "text": [
      "Hello, John! How are you today?\n"
     ]
    }
   ],
   "source": [
    "def greeting_generator(name):\n",
    "    def greeting_message(): return f\"Hello, {name}! How are you today?\"\n",
    "    return greeting_message()\n",
    "\n",
    "\n",
    "print(greeting_generator(\"John\"))\n"
   ]
  },
  {
   "cell_type": "markdown",
   "id": "9f016d43-5d72-412b-a689-dabe50d6f3d1",
   "metadata": {},
   "source": [
    "#### 110. Temperature Converter: Write a Python function called `temperature_converter` that takes a temperature value and a string representing the scale (‘C’ for Celsius or ‘F’ for Fahrenheit) as input. The function should convert the temperature from one scale to the other using nested functions and return the converted value.\n"
   ]
  },
  {
   "cell_type": "code",
   "execution_count": 111,
   "id": "0d93bf1d-545e-4850-a48c-a7e81f971cbb",
   "metadata": {},
   "outputs": [
    {
     "name": "stdout",
     "output_type": "stream",
     "text": [
      "32.0\n",
      "0.0\n"
     ]
    }
   ],
   "source": [
    "def temperature_converter(temp, scale):\n",
    "    def celsius_to_fahrenheit(): return (temp * 9/5) + 32\n",
    "    def fahrenheit_to_celsius(): return (temp - 32) * 5/9\n",
    "    \n",
    "    if scale == 'C':\n",
    "        return celsius_to_fahrenheit()\n",
    "    elif scale == 'F':\n",
    "        return fahrenheit_to_celsius()\n",
    "\n",
    "# Test cases\n",
    "print(temperature_converter(0, 'C'))  \n",
    "print(temperature_converter(32, 'F'))  "
   ]
  },
  {
   "cell_type": "markdown",
   "id": "334ae72a-5d71-46b5-ab5a-ff46a6f10041",
   "metadata": {},
   "source": [
    "## Recursion: [Video]\n",
    "#### 111. Factorial Calculation: Write a recursive Python function called `factorial` that takes a non-negative integer as input and returns its factorial.\n"
   ]
  },
  {
   "cell_type": "code",
   "execution_count": 112,
   "id": "46a8ed04-d106-4e4e-9e05-f87dd85f1a63",
   "metadata": {},
   "outputs": [
    {
     "name": "stdout",
     "output_type": "stream",
     "text": [
      "120\n"
     ]
    }
   ],
   "source": [
    "def factorial(n):\n",
    "    if n == 0 or n == 1:\n",
    "        return 1\n",
    "    else:\n",
    "        return n * factorial(n - 1)\n",
    "\n",
    "print(factorial(5)) \n"
   ]
  },
  {
   "cell_type": "markdown",
   "id": "68c1b976-8ab6-4d5a-9771-011ca972eeba",
   "metadata": {},
   "source": [
    "#### 112. Fibonacci Series: Write a recursive Python function called `Fibonacci` that takes an integer N as input and returns the Nth number in the Fibonacci series. The Fibonacci series is defined as follows: F(0) = 0, F(1) = 1, and F(n) = F(n-1) + F(n-2) for n > 1.\n"
   ]
  },
  {
   "cell_type": "code",
   "execution_count": 113,
   "id": "207b6e76-38fe-4c0d-9f53-01c7be10e6df",
   "metadata": {},
   "outputs": [
    {
     "name": "stdout",
     "output_type": "stream",
     "text": [
      "5\n"
     ]
    }
   ],
   "source": [
    "def fibonacci(n):\n",
    "    if n == 0:\n",
    "        return 0\n",
    "    elif n == 1:\n",
    "        return 1\n",
    "    else:\n",
    "        return fibonacci(n - 1) + fibonacci(n - 2)\n",
    "\n",
    "print(fibonacci(5))  \n"
   ]
  },
  {
   "cell_type": "markdown",
   "id": "456805cb-16c7-49cf-b3de-17ae6171893b",
   "metadata": {},
   "source": [
    "#### 113. The sum of Digits: Write a recursive Python function called `sum_of_digits` that takes an integer as input and returns the sum of its digits.\n"
   ]
  },
  {
   "cell_type": "code",
   "execution_count": 114,
   "id": "445180e0-00cb-4ad0-89af-aa359226d163",
   "metadata": {},
   "outputs": [
    {
     "name": "stdout",
     "output_type": "stream",
     "text": [
      "6\n"
     ]
    }
   ],
   "source": [
    "def sum_of_digits(n):\n",
    "    if n == 0:\n",
    "        return 0\n",
    "    else:\n",
    "        return n % 10 + sum_of_digits(n // 10)\n",
    "\n",
    "print(sum_of_digits(123))  \n"
   ]
  },
  {
   "cell_type": "markdown",
   "id": "3bdcf0d9-f62e-4639-9cf4-25f88fc57bce",
   "metadata": {},
   "source": [
    "#### 114. Binary Search: Write a recursive Python function called `binary_search` that takes a sorted list and a target value as input and returns the index of the target value in the list using binary search. If the target value is not in the list, return -1.\n"
   ]
  },
  {
   "cell_type": "code",
   "execution_count": 115,
   "id": "ac620b41-171c-4f31-8b80-eedfd1231e17",
   "metadata": {},
   "outputs": [
    {
     "name": "stdout",
     "output_type": "stream",
     "text": [
      "2\n"
     ]
    }
   ],
   "source": [
    "def binary_search(lst, target, low, high):\n",
    "    if low > high:\n",
    "        return -1\n",
    "    mid = (low + high) // 2\n",
    "    if lst[mid] == target:\n",
    "        return mid\n",
    "    elif lst[mid] > target:\n",
    "        return binary_search(lst, target, low, mid - 1)\n",
    "    else:\n",
    "        return binary_search(lst, target, mid + 1, high)\n",
    "\n",
    "\n",
    "print(binary_search([1, 2, 3, 4, 5], 3, 0, 4))  # 2\n"
   ]
  },
  {
   "cell_type": "markdown",
   "id": "c1eef637-6ed4-41a9-8ae8-84564c3c0df8",
   "metadata": {},
   "source": [
    "### 115. Power Calculation: Write a recursive Python function called `power` that takes two positive integers, base and exponent, as input and returns the value of base raised to the exponent."
   ]
  },
  {
   "cell_type": "code",
   "execution_count": 116,
   "id": "2d2187a5-7ed2-40ea-a5ed-5fbf7320e03f",
   "metadata": {},
   "outputs": [
    {
     "name": "stdout",
     "output_type": "stream",
     "text": [
      "8\n"
     ]
    }
   ],
   "source": [
    "def power(base, exp):\n",
    "    if exp == 0:\n",
    "        return 1\n",
    "    else:\n",
    "        return base * power(base, exp - 1)\n",
    "\n",
    "\n",
    "print(power(2, 3))  \n"
   ]
  },
  {
   "cell_type": "code",
   "execution_count": null,
   "id": "54c59da1-417c-4432-84ee-7c524b19363e",
   "metadata": {},
   "outputs": [],
   "source": []
  }
 ],
 "metadata": {
  "kernelspec": {
   "display_name": "Python 3 (ipykernel)",
   "language": "python",
   "name": "python3"
  },
  "language_info": {
   "codemirror_mode": {
    "name": "ipython",
    "version": 3
   },
   "file_extension": ".py",
   "mimetype": "text/x-python",
   "name": "python",
   "nbconvert_exporter": "python",
   "pygments_lexer": "ipython3",
   "version": "3.12.3"
  },
  "widgets": {
   "application/vnd.jupyter.widget-state+json": {
    "state": {},
    "version_major": 2,
    "version_minor": 0
   }
  }
 },
 "nbformat": 4,
 "nbformat_minor": 5
}
